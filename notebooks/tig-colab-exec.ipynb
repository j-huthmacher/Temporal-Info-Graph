{
  "nbformat": 4,
  "nbformat_minor": 0,
  "metadata": {
    "kernelspec": {
      "display_name": "Python 3.8.5 64-bit ('tig': conda)",
      "metadata": {
        "interpreter": {
          "hash": "e40159a12ac9a9ece4e67df73bdf345461e79f1702abc56474bd8ff4d26a4103"
        }
      },
      "name": "python3"
    },
    "language_info": {
      "codemirror_mode": {
        "name": "ipython",
        "version": 3
      },
      "file_extension": ".py",
      "mimetype": "text/x-python",
      "name": "python",
      "nbconvert_exporter": "python",
      "pygments_lexer": "ipython3",
      "version": "3.8.5"
    },
    "orig_nbformat": 2,
    "colab": {
      "name": "tig-colab-exec.ipynb",
      "provenance": []
    }
  },
  "cells": [
    {
      "cell_type": "code",
      "metadata": {
        "id": "mRwiKW5jDC2U"
      },
      "source": [
        "get_ipython().run_line_magic('load_ext', 'autoreload')\r\n",
        "get_ipython().run_line_magic('autoreload', '2')\r\n",
        "\r\n",
        "import sys\r\n",
        "sys.path.insert(0, \"../\")\r\n",
        "\r\n",
        "import pandas as pd \r\n",
        "import numpy as np\r\n",
        "import torch\r\n",
        "from torchsummary import summary\r\n",
        "\r\n",
        "torch.cuda.is_available()"
      ],
      "execution_count": null,
      "outputs": []
    }
  ]
}