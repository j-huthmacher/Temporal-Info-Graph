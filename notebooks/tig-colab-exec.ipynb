{
  "nbformat": 4,
  "nbformat_minor": 0,
  "metadata": {
    "kernelspec": {
      "display_name": "Python 3.8.5 64-bit ('tig': conda)",
      "metadata": {
        "interpreter": {
          "hash": "e40159a12ac9a9ece4e67df73bdf345461e79f1702abc56474bd8ff4d26a4103"
        }
      },
      "name": "python3"
    },
    "language_info": {
      "codemirror_mode": {
        "name": "ipython",
        "version": 3
      },
      "file_extension": ".py",
      "mimetype": "text/x-python",
      "name": "python",
      "nbconvert_exporter": "python",
      "pygments_lexer": "ipython3",
      "version": "3.8.5"
    },
    "orig_nbformat": 2,
    "colab": {
      "name": "tig-colab-exec.ipynb",
      "provenance": []
    }
  },
  "cells": [
    {
      "cell_type": "code",
      "metadata": {
        "colab": {
          "base_uri": "https://localhost:8080/"
        },
        "id": "abtKeOsyD8u9",
        "outputId": "b93bfbf1-b65b-4ae8-c298-fa7de04db196"
      },
      "source": [
        "# from google.colab import drive\n",
        "# drive.mount('/content/drive')\n",
        "\n",
        "%cd /content/drive/MyDrive/CoLab/\n",
        "\n"
      ],
      "execution_count": 4,
      "outputs": [
        {
          "output_type": "stream",
          "text": [
            "/content/drive/MyDrive/CoLab\n",
            "Cloning into 'Temporal-Info-Graph'...\n",
            "fatal: could not read Username for 'https://github.com': No such device or address\n"
          ],
          "name": "stdout"
        }
      ]
    },
    {
      "cell_type": "code",
      "metadata": {
        "id": "L4w9ty1KErcG",
        "outputId": "f0eec92a-8b90-40d6-ba75-a42d7ceb6d9e",
        "colab": {
          "base_uri": "https://localhost:8080/"
        }
      },
      "source": [
        "import os\n",
        "from getpass import getpass\n",
        "user = getpass('GitHub user')\n",
        "password = getpass('GitHub password')\n",
        "os.environ['GITHUB_AUTH'] = user + ':' + password\n",
        "!git clone https://$GITHUB_AUTH@github.com/j-huthmacher/Temporal-Info-Graph.git"
      ],
      "execution_count": 10,
      "outputs": [
        {
          "output_type": "stream",
          "text": [
            "GitHub user··········\n",
            "GitHub password··········\n",
            "Cloning into 'Temporal-Info-Graph'...\n",
            "remote: Enumerating objects: 229, done.\u001b[K\n",
            "remote: Counting objects: 100% (229/229), done.\u001b[K\n",
            "remote: Compressing objects: 100% (126/126), done.\u001b[K\n",
            "remote: Total 229 (delta 129), reused 179 (delta 96), pack-reused 0\u001b[K\n",
            "Receiving objects: 100% (229/229), 472.88 KiB | 8.01 MiB/s, done.\n",
            "Resolving deltas: 100% (129/129), done.\n"
          ],
          "name": "stdout"
        }
      ]
    },
    {
      "cell_type": "code",
      "metadata": {
        "id": "Lp3CunCUELJQ"
      },
      "source": [
        ""
      ],
      "execution_count": null,
      "outputs": []
    },
    {
      "cell_type": "code",
      "metadata": {
        "id": "mRwiKW5jDC2U"
      },
      "source": [
        "get_ipython().run_line_magic('load_ext', 'autoreload')\r\n",
        "get_ipython().run_line_magic('autoreload', '2')\r\n",
        "\r\n",
        "import sys\r\n",
        "sys.path.insert(0, \"../\")\r\n",
        "\r\n",
        "import pandas as pd \r\n",
        "import numpy as np\r\n",
        "import torch\r\n",
        "from torchsummary import summary\r\n",
        "\r\n",
        "torch.cuda.is_available()"
      ],
      "execution_count": null,
      "outputs": []
    },
    {
      "cell_type": "code",
      "metadata": {
        "colab": {
          "base_uri": "https://localhost:8080/"
        },
        "id": "hPXLzD1JDgCk",
        "outputId": "6a22a2ee-2d7b-44b3-95a6-944964d40544"
      },
      "source": [
        ""
      ],
      "execution_count": 1,
      "outputs": [
        {
          "output_type": "stream",
          "text": [
            "Mounted at /content/drive\n"
          ],
          "name": "stdout"
        }
      ]
    },
    {
      "cell_type": "code",
      "metadata": {
        "colab": {
          "base_uri": "https://localhost:8080/"
        },
        "id": "FaFyFn4fDiAM",
        "outputId": "77e9d4ce-19dc-44f2-ac6d-e0ab5248090d"
      },
      "source": [
        ""
      ],
      "execution_count": 2,
      "outputs": [
        {
          "output_type": "stream",
          "text": [
            "/content/drive/MyDrive/CoLab\n"
          ],
          "name": "stdout"
        }
      ]
    },
    {
      "cell_type": "code",
      "metadata": {
        "id": "83PR7lcmD7sy"
      },
      "source": [
        ""
      ],
      "execution_count": null,
      "outputs": []
    }
  ]
}