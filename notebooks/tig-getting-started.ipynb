{
 "cells": [
  {
   "cell_type": "code",
   "execution_count": 1,
   "metadata": {},
   "outputs": [
    {
     "data": {
      "text/plain": "True"
     },
     "execution_count": 1,
     "metadata": {},
     "output_type": "execute_result"
    }
   ],
   "source": [
    "get_ipython().run_line_magic('load_ext', 'autoreload')\r\n",
    "get_ipython().run_line_magic('autoreload', '2')\r\n",
    "\r\n",
    "import sys\r\n",
    "sys.path.insert(0, \"../\")\r\n",
    "\r\n",
    "import pandas as pd \r\n",
    "import numpy as np\r\n",
    "import torch\r\n",
    "from torchsummary import summary\r\n",
    "\r\n",
    "torch.cuda.is_available()"
   ]
  },
  {
   "cell_type": "code",
   "execution_count": 11,
   "metadata": {},
   "outputs": [
    {
     "name": "stdout",
     "output_type": "stream",
     "text": [
      "torch.Size([4, 2, 3, 6])\n",
      "torch.Size([4, 2, 3, 6]) torch.Size([4, 2, 6, 3])\n",
      "torch.Size([4, 3, 6])\n"
     ]
    }
   ],
   "source": [
    "X = torch.tensor([\r\n",
    "   [\r\n",
    "       [\r\n",
    "          [1111, 1112, 1113, 1114, 0, 0], # N 1 - F2\r\n",
    "          [1211, 1212, 1213, 1214, 0, 0], # N 2:\r\n",
    "          [1311, 1312, 1313, 1314, 0, 0]  # N 3:\r\n",
    "       ],[\r\n",
    "          [1121, 1122, 1123, 1124, 0, 0], # N 1 - F2\r\n",
    "          [1221, 1222, 1223, 1224, 0, 0],\r\n",
    "          [1321, 1322, 1323, 1324, 0, 0]\r\n",
    "       ],\r\n",
    "   ],[\r\n",
    "       [\r\n",
    "          [2111, 2112, 2113, 0, 0, 0], # N 1 - F2\r\n",
    "          [2211, 2212, 2213, 0, 0, 0], # N 2:\r\n",
    "          [2311, 2312, 2313, 0, 0, 0]  # N 3:\r\n",
    "       ],[\r\n",
    "          [2121, 2122, 2123, 0, 0, 0], # N 1 - F2\r\n",
    "          [2221, 2222, 2223, 0, 0, 0],\r\n",
    "          [2321, 2322, 2323, 0, 0, 0]\r\n",
    "       ]\r\n",
    "   ],[\r\n",
    "       [\r\n",
    "          [3111, 3112, 3113, 1, 0, 0], # N 1 - F2\r\n",
    "          [3211, 3212, 3213, 1, 0, 0], # N 2:\r\n",
    "          [3311, 3312, 3313, 0, 1, 0]  # N 3:\r\n",
    "       ],[\r\n",
    "          [3121, 3122, 3123, 0, 0, 0], # N 1 - F2\r\n",
    "          [3221, 3222, 3223, 0, 1, 0],\r\n",
    "          [3321, 3322, 3323, 0, 0, 0]\r\n",
    "       ]\r\n",
    "   ],[\r\n",
    "       [[1, 2, 1, 0, 0, 0],\r\n",
    "        [3, 4, 1, 0, 0, 0],\r\n",
    "        [2, 1, 1, 0, 0, 0]],\r\n",
    "\r\n",
    "       [[2, 2, 1, 0, 0, 0],\r\n",
    "        [0, 2, 1, 0, 0, 0],\r\n",
    "        [2, 4, 1, 0, 0, 0]],\r\n",
    "   ]    \r\n",
    "]).type('torch.FloatTensor').cpu()\r\n",
    "print(X.shape) \r\n",
    "\r\n",
    "\r\n",
    "# X[:, :, :, pad_idx] = 99\r\n",
    "# X[np.arange(pad_idx.shape[0]), :, :, [-2, -3, -1]]= 999\r\n",
    "\r\n",
    "# (batch, out_features, nodes, time)\r\n",
    "# X = X.permute(0,2,3,1)\r\n",
    "print(X.shape, X.permute(0,1,3,2).shape)\r\n",
    "# # X\r\n",
    "feature_dim = 2\r\n",
    "num_nodes = 3\r\n",
    "batch_size = 4\r\n",
    "pad_idx = torch.repeat_interleave(((~X.bool()).all(dim=feature_dim)).all(dim=1), repeats=num_nodes, dim=0).view(batch_size,3,-1)\r\n",
    "print(pad_idx.shape)\r\n",
    "out_length = 6\r\n",
    "X.permute(1,0,2,3)[:, pad_idx[:,:,:out_length]] = 99\r\n",
    "# X"
   ]
  },
  {
   "cell_type": "code",
   "execution_count": 15,
   "metadata": {},
   "outputs": [
    {
     "data": {
      "text/plain": "torch.Size([4, 2, 4, 5])"
     },
     "execution_count": 15,
     "metadata": {},
     "output_type": "execute_result"
    }
   ],
   "source": [
    "H.shape"
   ]
  },
  {
   "cell_type": "code",
   "execution_count": 16,
   "metadata": {},
   "outputs": [
    {
     "ename": "IndexError",
     "evalue": "The shape of the mask [4, 3, 5] at index 1 does not match the shape of the indexed tensor [2, 4, 4, 5] at index 2",
     "output_type": "error",
     "traceback": [
      "\u001b[1;31m---------------------------------------------------------------------------\u001b[0m",
      "\u001b[1;31mIndexError\u001b[0m                                Traceback (most recent call last)",
      "\u001b[1;32m<ipython-input-16-7153cd630bcb>\u001b[0m in \u001b[0;36m<module>\u001b[1;34m\u001b[0m\n\u001b[0;32m      1\u001b[0m \u001b[0mout_length\u001b[0m \u001b[1;33m=\u001b[0m \u001b[1;36m5\u001b[0m\u001b[1;33m\u001b[0m\u001b[1;33m\u001b[0m\u001b[0m\n\u001b[0;32m      2\u001b[0m \u001b[1;33m\u001b[0m\u001b[0m\n\u001b[1;32m----> 3\u001b[1;33m \u001b[0mH\u001b[0m\u001b[1;33m.\u001b[0m\u001b[0mpermute\u001b[0m\u001b[1;33m(\u001b[0m\u001b[1;36m1\u001b[0m\u001b[1;33m,\u001b[0m\u001b[1;36m0\u001b[0m\u001b[1;33m,\u001b[0m\u001b[1;36m2\u001b[0m\u001b[1;33m,\u001b[0m\u001b[1;36m3\u001b[0m\u001b[1;33m)\u001b[0m\u001b[1;33m[\u001b[0m\u001b[1;33m:\u001b[0m\u001b[1;33m,\u001b[0m \u001b[0mpad_idx\u001b[0m\u001b[1;33m[\u001b[0m\u001b[1;33m:\u001b[0m\u001b[1;33m,\u001b[0m\u001b[1;33m:\u001b[0m\u001b[1;33m,\u001b[0m\u001b[1;33m:\u001b[0m\u001b[0mout_length\u001b[0m\u001b[1;33m]\u001b[0m\u001b[1;33m]\u001b[0m \u001b[1;33m=\u001b[0m \u001b[1;36m99\u001b[0m\u001b[1;33m\u001b[0m\u001b[1;33m\u001b[0m\u001b[0m\n\u001b[0m",
      "\u001b[1;31mIndexError\u001b[0m: The shape of the mask [4, 3, 5] at index 1 does not match the shape of the indexed tensor [2, 4, 4, 5] at index 2"
     ]
    }
   ],
   "source": [
    "out_length = 5\r\n",
    "\r\n",
    "H.permute(1,0,2,3)[:, pad_idx[:,:,:out_length]] = 99"
   ]
  },
  {
   "cell_type": "code",
   "execution_count": 323,
   "metadata": {},
   "outputs": [
    {
     "name": "stdout",
     "output_type": "stream",
     "text": [
      "torch.Size([4, 4, 6])\n"
     ]
    }
   ],
   "source": [
    "print(pad_idx.shape) \r\n",
    "H.permute(0,2,3,1)[pad_idx, :] = 999"
   ]
  },
  {
   "cell_type": "code",
   "execution_count": 14,
   "metadata": {},
   "outputs": [],
   "source": [
    "H = torch.tensor([\r\n",
    "   [\r\n",
    "       [\r\n",
    "          [1111, 1112, 1113,  0, 0], # N 1 - F2\r\n",
    "          [1211, 1212, 1213,  0, 0], # N 2:\r\n",
    "          [1311, 1312, 1313, 0, 0] ,\r\n",
    "           [2, 1, 1, 0, 0] # N 3:\r\n",
    "       ],[\r\n",
    "          [1121, 1122, 1123, 0, 0], # N 1 - F2\r\n",
    "          [1221, 1222, 1223, 0, 0],\r\n",
    "          [1321, 1322, 1323,  0, 0],\r\n",
    "           [2, 1, 1, 0, 0]\r\n",
    "       ],\r\n",
    "   ],[\r\n",
    "       [\r\n",
    "          [2111, 2112,  0, 0, 0], # N 1 - F2\r\n",
    "          [2211, 2212,  0, 0, 0], # N 2:\r\n",
    "          [2311, 2312,  0, 0, 0],\r\n",
    "           [2, 1, 1,  0, 0]  # N 3:\r\n",
    "       ],[\r\n",
    "          [2121, 2122,  0, 0, 0], # N 1 - F2\r\n",
    "          [2221, 2222,  0, 0, 0],\r\n",
    "          [2321, 2322,  0, 0, 0],\r\n",
    "           [2, 1, 1, 0,  0]\r\n",
    "       ]\r\n",
    "   ],[\r\n",
    "       [\r\n",
    "          [3111, 3112, 1, 0, 0], # N 1 - F2\r\n",
    "          [3211, 3212,  1, 0, 0], # N 2:\r\n",
    "          [3311, 3312,  0, 1, 0] ,\r\n",
    "           [2, 1, 1, 0, 0] # N 3:\r\n",
    "       ],[\r\n",
    "          [3121, 3122,  0, 0, 0], # N 1 - F2\r\n",
    "          [3221, 3222,  0, 1, 0],\r\n",
    "          [3321, 3322,  0, 0, 0],\r\n",
    "           [2, 1, 1, 0,0]\r\n",
    "       ]\r\n",
    "   ],[\r\n",
    "       [\r\n",
    "           [1, 2, 1,  0, 0],\r\n",
    "           [3, 4, 1,  0, 0],\r\n",
    "           [2, 1, 1,  0, 0],\r\n",
    "           [2, 1, 1,  0, 0]\r\n",
    "        ],\r\n",
    "\r\n",
    "       [\r\n",
    "           [2, 2, 1,  0, 0],\r\n",
    "           [0, 2, 1,  0, 0],\r\n",
    "           [2, 4, 1,  0, 0],\r\n",
    "           [2, 1, 1,  0, 0]\r\n",
    "        ],\r\n",
    "   ]   \r\n",
    "]).type('torch.FloatTensor').cpu()"
   ]
  },
  {
   "cell_type": "code",
   "execution_count": 303,
   "metadata": {},
   "outputs": [
    {
     "data": {
      "text/plain": "torch.Size([4, 3, 6])"
     },
     "execution_count": 303,
     "metadata": {},
     "output_type": "execute_result"
    }
   ],
   "source": [
    "torch.repeat_interleave(((~X.bool()).all(dim=feature_dim)).all(dim=1), repeats=num_nodes, dim=0).view(4,3,-1).shape"
   ]
  },
  {
   "cell_type": "code",
   "execution_count": 312,
   "metadata": {},
   "outputs": [
    {
     "data": {
      "text/plain": "tensor([3212., 3222.])"
     },
     "execution_count": 312,
     "metadata": {},
     "output_type": "execute_result"
    }
   ],
   "source": [
    "graph = 2\r\n",
    "node = 1\r\n",
    "\r\n",
    "X[graph, node, 1, :]"
   ]
  },
  {
   "cell_type": "code",
   "execution_count": 264,
   "metadata": {},
   "outputs": [
    {
     "data": {
      "text/plain": "(torch.Size([2, 3, 6, 2]),\n tensor([[2., 2.],\n         [1., 4.],\n         [1., 1.],\n         [0., 0.],\n         [0., 0.],\n         [0., 0.]]))"
     },
     "execution_count": 264,
     "metadata": {},
     "output_type": "execute_result"
    }
   ],
   "source": [
    "X.shape, X[1, 2, :, :]"
   ]
  },
  {
   "cell_type": "code",
   "execution_count": 221,
   "metadata": {},
   "outputs": [
    {
     "data": {
      "text/plain": "torch.Size([3, 2, 3, 6])"
     },
     "execution_count": 221,
     "metadata": {},
     "output_type": "execute_result"
    }
   ],
   "source": [
    "X.shape"
   ]
  },
  {
   "cell_type": "code",
   "execution_count": 236,
   "metadata": {},
   "outputs": [
    {
     "data": {
      "text/plain": "tensor([[False, False, False, False,  True,  True],\n        [False, False, False, False,  True,  True],\n        [False, False, False, False,  True,  True],\n        [False, False, False,  True,  True,  True],\n        [False, False, False,  True,  True,  True],\n        [False, False, False,  True,  True,  True],\n        [False, False, False, False, False,  True],\n        [False, False, False, False, False,  True],\n        [False, False, False, False, False,  True]])"
     },
     "execution_count": 236,
     "metadata": {},
     "output_type": "execute_result"
    }
   ],
   "source": [
    "\r\n",
    "torch.repeat_interleave(((~X.bool()).all(dim=3)).all(dim=1), repeats=3, dim=0)#.shape"
   ]
  },
  {
   "cell_type": "code",
   "execution_count": 172,
   "metadata": {},
   "outputs": [
    {
     "data": {
      "text/plain": "(tensor([[[False, False, False, False,  True,  True],\n          [False, False, False, False,  True,  True],\n          [False, False, False, False,  True,  True]],\n \n         [[False, False, False,  True,  True,  True],\n          [False, False, False,  True,  True,  True],\n          [False, False, False,  True,  True,  True]],\n \n         [[False, False, False, False,  True,  True],\n          [False, False, False,  True, False,  True],\n          [False, False, False,  True, False,  True]]]),\n '',\n tensor([[False, False, False, False,  True,  True],\n         [False, False, False,  True,  True,  True],\n         [False, False, False, False, False,  True]]),\n torch.Size([3, 3, 6]),\n torch.Size([3, 2, 3, 6]))"
     },
     "execution_count": 172,
     "metadata": {},
     "output_type": "execute_result"
    }
   ],
   "source": [
    "dim = 1 # 1 = per feature\r\n",
    "((~X.bool()).all(dim=dim)),\"\", ((~X.bool()).all(dim=1)).all(dim=1), X.bool().all(dim=dim).shape, X.shape"
   ]
  },
  {
   "cell_type": "code",
   "execution_count": 174,
   "metadata": {},
   "outputs": [
    {
     "data": {
      "text/plain": "tensor([[[[ 1.,  2.,  1.,  1., 99., 99.],\n          [ 3.,  4.,  1., 99., 99., 99.],\n          [ 2.,  1.,  1.,  1.,  0., 99.]],\n\n         [[ 2.,  2.,  1.,  1., 99., 99.],\n          [ 2.,  2.,  1., 99., 99., 99.],\n          [ 2.,  4.,  1.,  1.,  0., 99.]]],\n\n\n        [[[ 1.,  2.,  1.,  0., 99., 99.],\n          [ 3.,  4.,  1., 99., 99., 99.],\n          [ 2.,  1.,  1.,  0.,  0., 99.]],\n\n         [[ 2.,  2.,  1.,  0., 99., 99.],\n          [ 0.,  2.,  1., 99., 99., 99.],\n          [ 2.,  4.,  1.,  0.,  0., 99.]]],\n\n\n        [[[ 1.,  2.,  1.,  1., 99., 99.],\n          [ 3.,  0.,  1., 99., 99., 99.],\n          [ 2.,  1.,  1.,  0.,  2., 99.]],\n\n         [[ 2.,  2.,  1.,  0., 99., 99.],\n          [ 2.,  2.,  1., 99., 99., 99.],\n          [ 2.,  4.,  1.,  0.,  0., 99.]]]])"
     },
     "execution_count": 174,
     "metadata": {},
     "output_type": "execute_result"
    }
   ],
   "source": [
    "X[:, :, ((~X.bool()).all(dim=1)).all(dim=1)] = 99\r\n",
    "X"
   ]
  },
  {
   "cell_type": "code",
   "execution_count": 173,
   "metadata": {},
   "outputs": [
    {
     "data": {
      "text/plain": "tensor([[[[1., 2., 1., 1., 0., 0.],\n          [3., 4., 1., 1., 0., 0.],\n          [2., 1., 1., 1., 0., 0.]],\n\n         [[2., 2., 1., 1., 0., 0.],\n          [2., 2., 1., 1., 0., 0.],\n          [2., 4., 1., 1., 0., 0.]]],\n\n\n        [[[1., 2., 1., 0., 0., 0.],\n          [3., 4., 1., 0., 0., 0.],\n          [2., 1., 1., 0., 0., 0.]],\n\n         [[2., 2., 1., 0., 0., 0.],\n          [0., 2., 1., 0., 0., 0.],\n          [2., 4., 1., 0., 0., 0.]]],\n\n\n        [[[1., 2., 1., 1., 0., 0.],\n          [3., 0., 1., 0., 0., 0.],\n          [2., 1., 1., 0., 2., 0.]],\n\n         [[2., 2., 1., 0., 0., 0.],\n          [2., 2., 1., 0., 2., 0.],\n          [2., 4., 1., 0., 0., 0.]]]])"
     },
     "execution_count": 173,
     "metadata": {},
     "output_type": "execute_result"
    }
   ],
   "source": [
    "X"
   ]
  },
  {
   "cell_type": "code",
   "execution_count": 166,
   "metadata": {},
   "outputs": [
    {
     "data": {
      "text/plain": "torch.Size([3, 6])"
     },
     "execution_count": 166,
     "metadata": {},
     "output_type": "execute_result"
    }
   ],
   "source": [
    "((~X.bool()).all(dim=1)).all(dim=1).shape"
   ]
  },
  {
   "cell_type": "code",
   "execution_count": 108,
   "metadata": {},
   "outputs": [
    {
     "data": {
      "text/plain": "tensor([[1., 2., 1., 1., 0., 0.],\n        [3., 4., 1., 1., 0., 0.],\n        [2., 1., 1., 1., 0., 0.]])"
     },
     "execution_count": 108,
     "metadata": {},
     "output_type": "execute_result"
    }
   ],
   "source": [
    "X[0, 0, :, :]"
   ]
  },
  {
   "cell_type": "code",
   "execution_count": 61,
   "metadata": {},
   "outputs": [
    {
     "ename": "RuntimeError",
     "evalue": "Boolean value of Tensor with more than one value is ambiguous",
     "output_type": "error",
     "traceback": [
      "\u001b[1;31m---------------------------------------------------------------------------\u001b[0m",
      "\u001b[1;31mRuntimeError\u001b[0m                              Traceback (most recent call last)",
      "\u001b[1;32m<ipython-input-61-e49b360ef20c>\u001b[0m in \u001b[0;36m<module>\u001b[1;34m\u001b[0m\n\u001b[1;32m----> 1\u001b[1;33m \u001b[0mnp\u001b[0m\u001b[1;33m.\u001b[0m\u001b[0marange\u001b[0m\u001b[1;33m(\u001b[0m\u001b[0mpad_idx\u001b[0m\u001b[1;33m)\u001b[0m\u001b[1;33m\u001b[0m\u001b[1;33m\u001b[0m\u001b[0m\n\u001b[0m",
      "\u001b[1;31mRuntimeError\u001b[0m: Boolean value of Tensor with more than one value is ambiguous"
     ]
    }
   ],
   "source": [
    "np.arange(pad_idx)"
   ]
  },
  {
   "cell_type": "code",
   "execution_count": 56,
   "metadata": {},
   "outputs": [
    {
     "ename": "RuntimeError",
     "evalue": "Boolean value of Tensor with more than one value is ambiguous",
     "output_type": "error",
     "traceback": [
      "\u001b[1;31m---------------------------------------------------------------------------\u001b[0m",
      "\u001b[1;31mRuntimeError\u001b[0m                              Traceback (most recent call last)",
      "\u001b[1;32m<ipython-input-56-e49b360ef20c>\u001b[0m in \u001b[0;36m<module>\u001b[1;34m\u001b[0m\n\u001b[1;32m----> 1\u001b[1;33m \u001b[0mnp\u001b[0m\u001b[1;33m.\u001b[0m\u001b[0marange\u001b[0m\u001b[1;33m(\u001b[0m\u001b[0mpad_idx\u001b[0m\u001b[1;33m)\u001b[0m\u001b[1;33m\u001b[0m\u001b[1;33m\u001b[0m\u001b[0m\n\u001b[0m",
      "\u001b[1;31mRuntimeError\u001b[0m: Boolean value of Tensor with more than one value is ambiguous"
     ]
    }
   ],
   "source": [
    "np.arange(pad_idx)"
   ]
  },
  {
   "cell_type": "code",
   "execution_count": 49,
   "metadata": {},
   "outputs": [
    {
     "data": {
      "text/plain": "tensor([[[[ 1., 99., 99., 99.,  0.,  0.],\n          [ 3., 99., 99., 99.,  0.,  0.],\n          [ 2., 99., 99., 99.,  0.,  0.]],\n\n         [[ 2., 99., 99., 99.,  0.,  0.],\n          [ 2., 99., 99., 99.,  0.,  0.],\n          [ 2., 99., 99., 99.,  0.,  0.]]],\n\n\n        [[[ 1., 99., 99., 99.,  0.,  0.],\n          [ 3., 99., 99., 99.,  0.,  0.],\n          [ 2., 99., 99., 99.,  0.,  0.]],\n\n         [[ 2., 99., 99., 99.,  0.,  0.],\n          [ 2., 99., 99., 99.,  0.,  0.],\n          [ 2., 99., 99., 99.,  0.,  0.]]],\n\n\n        [[[ 1., 99., 99., 99.,  0.,  0.],\n          [ 3., 99., 99., 99.,  0.,  0.],\n          [ 2., 99., 99., 99.,  2.,  0.]],\n\n         [[ 2., 99., 99., 99.,  0.,  0.],\n          [ 2., 99., 99., 99.,  2.,  0.],\n          [ 2., 99., 99., 99.,  0.,  0.]]]])"
     },
     "execution_count": 49,
     "metadata": {},
     "output_type": "execute_result"
    }
   ],
   "source": []
  },
  {
   "cell_type": "markdown",
   "metadata": {},
   "source": [
    "# Building Block: Temporal Convolution\r\n",
    "\r\n",
    "Below you find some sample code to test the temporal convolution. For verification you can use the example tensor some predefined weights.\r\n",
    "\r\n",
    "In general, the `Conv2D` function from PyTorch requires some tensor with the dimensions `(N, C_in, H_in, W_in)`. In our case those dimensions corresponds to `(batch, features, nodes, time_steps)`."
   ]
  },
  {
   "cell_type": "code",
   "execution_count": null,
   "metadata": {},
   "outputs": [],
   "source": [
    "################################################\r\n",
    "# Create example tensor                        #\r\n",
    "# Either use a predefined tensor (uncomment)   #\r\n",
    "# or use a random generated tensor (commented) #\r\n",
    "################################################\r\n",
    "\r\n",
    "# batch = 1\r\n",
    "# features = 4\r\n",
    "# time_steps = 6\r\n",
    "# nodes = 3\r\n",
    "# X = torch.randint(0, 10, (batch, features, nodes, time_steps)).type('torch.FloatTensor').cpu()\r\n",
    "\r\n",
    "# Predefined example tensor for verification\r\n",
    "X = torch.tensor([[\r\n",
    "       [[1, 2, 1, 1],  # f1, n1 , t1 and t2 and t3 and t4\r\n",
    "        [3, 4, 1, 1],  # f1, n2 , t1 and t2 and t3 and t4\r\n",
    "        [2, 1, 1, 1]], # f1, n3 , t1 and t2 and t3 and t4\r\n",
    "       [[2, 2, 1, 1],  # f2, n1 , t1 and t2 and t3 and t4\r\n",
    "        [2, 2, 1, 1],  # f2, n2 , t1 and t2 and t3 and t4\r\n",
    "        [2, 4, 1, 1]]  # f2, n3 , t1 and t2 and t3 and t4\r\n",
    "     ]]).type('torch.FloatTensor').cpu()\r\n",
    "\r\n",
    "X.shape\r\n",
    "# x, y, z;Old: features, nodes, time; required: fearures, time, nodes\r\n",
    "#X.permute(0,3,2,1)"
   ]
  },
  {
   "cell_type": "code",
   "execution_count": 119,
   "metadata": {},
   "outputs": [
    {
     "name": "stdout",
     "output_type": "stream",
     "text": [
      "torch.Size([1, 2, 3, 6]) torch.Size([1, 5, 3, 4])\n"
     ]
    }
   ],
   "source": [
    "###############################\r\n",
    "# Create Temporal Convolution #\r\n",
    "###############################\r\n",
    "import sys\r\n",
    "sys.path.insert(0, \"../\")\r\n",
    "\r\n",
    "from model.temporal_info_graph import TemporalConvolution\r\n",
    "\r\n",
    "# Custom kernel! Dimension (c_out, c_in, kernel[0], kernel[1])\r\n",
    "weights = torch.ones_like(torch.randint(0, 10, (5, 3, 1, 3)).type('torch.FloatTensor'))\r\n",
    "\r\n",
    "# c_in = features, c_out can be chosen, kernel = (1, x), where x is free number less than the number of time steps.\r\n",
    "# Weights and activation are optional.\r\n",
    "tempConv = TemporalConvolution(c_in=2, c_out=5, kernel=3)#, weights=weights, activation=None).cpu()\r\n",
    "print(X.shape, tempConv(X).shape)\r\n",
    "H = tempConv(X)"
   ]
  },
  {
   "cell_type": "code",
   "execution_count": 120,
   "metadata": {},
   "outputs": [
    {
     "data": {
      "text/plain": "tensor([[[[ 0.0000e+00, -0.0000e+00,  9.4661e-01, -0.0000e+00],\n          [ 0.0000e+00, -3.7209e-02,  9.4661e-01, -0.0000e+00],\n          [-0.0000e+00, -1.2926e-02,  0.0000e+00, -6.1968e-03]],\n\n         [[-1.8786e-02,  1.4412e+00, -1.3836e-02,  0.0000e+00],\n          [-0.0000e+00,  3.2845e+00, -0.0000e+00,  1.0146e+00],\n          [ 6.7680e-01,  0.0000e+00, -1.3836e-02,  1.0146e+00]],\n\n         [[-9.9382e-03, -4.0544e-03,  0.0000e+00, -0.0000e+00],\n          [-2.6611e-02,  0.0000e+00,  0.0000e+00, -0.0000e+00],\n          [ 0.0000e+00, -0.0000e+00,  0.0000e+00, -2.5722e-03]],\n\n         [[ 8.5557e-01,  6.0142e-01, -0.0000e+00,  6.1741e-01],\n          [-3.6754e-02, -2.3182e-02, -0.0000e+00,  0.0000e+00],\n          [-5.9868e-03,  0.0000e+00, -5.8827e-03,  6.1741e-01]],\n\n         [[ 4.2488e-02,  4.6974e-01, -0.0000e+00,  1.5008e+00],\n          [-4.7926e-02, -0.0000e+00, -1.8836e-03,  1.5008e+00],\n          [-1.1306e-02,  3.5278e+00, -1.8836e-03,  1.5008e+00]]]],\n       grad_fn=<LeakyReluBackward0>)"
     },
     "execution_count": 120,
     "metadata": {},
     "output_type": "execute_result"
    }
   ],
   "source": [
    "H"
   ]
  },
  {
   "cell_type": "code",
   "execution_count": 124,
   "metadata": {},
   "outputs": [
    {
     "data": {
      "text/plain": "tensor([[[[ 0.0000, -0.0000,  0.0000,  0.0000],\n          [ 0.0000, -0.0372,  0.0000,  0.0000],\n          [-0.0000, -0.0129,  0.0000,  0.0000]],\n\n         [[-0.0188,  1.4412,  0.0000,  0.0000],\n          [-0.0000,  3.2845,  0.0000,  0.0000],\n          [ 0.6768,  0.0000,  0.0000,  0.0000]],\n\n         [[-0.0099, -0.0041,  0.0000,  0.0000],\n          [-0.0266,  0.0000,  0.0000,  0.0000],\n          [ 0.0000, -0.0000,  0.0000,  0.0000]],\n\n         [[ 0.8556,  0.6014,  0.0000,  0.0000],\n          [-0.0368, -0.0232,  0.0000,  0.0000],\n          [-0.0060,  0.0000,  0.0000,  0.0000]],\n\n         [[ 0.0425,  0.4697,  0.0000,  0.0000],\n          [-0.0479, -0.0000,  0.0000,  0.0000],\n          [-0.0113,  3.5278,  0.0000,  0.0000]]]], grad_fn=<CopySlices>)"
     },
     "execution_count": 124,
     "metadata": {},
     "output_type": "execute_result"
    }
   ],
   "source": [
    "pad_idx = (X.sum(dim=2).squeeze().sum(dim=-2) == 0).sum()\r\n",
    "H[:, :, :, pad_idx: ] = 0  # Set all values to that come after the padded value\r\n",
    "H\r\n"
   ]
  },
  {
   "cell_type": "markdown",
   "metadata": {},
   "source": [
    "# Building Block: Spectral Convolution\r\n",
    "\r\n",
    "Reference implementations: https://github.com/FelixOpolka/STGCN-PyTorch/blob/master/stgcn.py"
   ]
  },
  {
   "cell_type": "code",
   "execution_count": null,
   "metadata": {},
   "outputs": [],
   "source": [
    "get_ipython().run_line_magic('load_ext', 'autoreload')\r\n",
    "get_ipython().run_line_magic('autoreload', '2')\r\n",
    "\r\n",
    "\r\n",
    "import torch\r\n",
    "import numpy as np \r\n",
    "\r\n",
    "# Predefined example tensor for verification\r\n",
    "X = torch.tensor([[\r\n",
    "       [[1, 2, 1, 1],  # f1, n1 , t1 and t2 and t3 and t4\r\n",
    "        [3, 4, 1, 1],  # f1, n2 , t1 and t2 and t3 and t4\r\n",
    "        [2, 1, 1, 1]], # f1, n3 , t1 and t2 and t3 and t4\r\n",
    "       [[2, 2, 1, 1],  # f2, n1 , t1 and t2 and t3 and t4\r\n",
    "        [2, 2, 1, 1],  # f2, n2 , t1 and t2 and t3 and t4\r\n",
    "        [2, 4, 1, 1]]  # f2, n3 , t1 and t2 and t3 and t4\r\n",
    "     ]]).type('torch.FloatTensor').cpu()\r\n",
    "\r\n",
    "A = torch.tensor([\r\n",
    "    [0, 1, 0],\r\n",
    "    [1, 0, 1], \r\n",
    "    [0, 1, 0]\r\n",
    "    ]).type('torch.FloatTensor').cpu()\r\n",
    "\r\n",
    "D = torch.diag(torch.sum(A, dim=0))\r\n",
    "L = D - A"
   ]
  },
  {
   "cell_type": "markdown",
   "metadata": {},
   "source": [
    "`torch.einsum(equation, *operands)`: This function provides a way of computing multilinear expressions (i.e. sums of products) using the Einstein summation convention.\r\n",
    "\r\n",
    "**Equation**\r\n",
    "* The left hand side lists the operands dimensions, separated by commas. There should be one index letter per tensor dimension. \r\n",
    "* The right hand side follows after -> and gives the indices for the output\r\n"
   ]
  },
  {
   "cell_type": "code",
   "execution_count": null,
   "metadata": {},
   "outputs": [],
   "source": [
    "#################################################################################\r\n",
    "# Check/Validation: This einsum corresponds to Adjacency multiplication in time #\r\n",
    "#################################################################################\r\n",
    "\r\n",
    "# lfs = torch.einsum(\"ij,jklm->kilm\", [A, X.permute(3, 0, 2, 1)])\r\n",
    "lfs = torch.einsum(\"ij,jklm->kilm\", [A, X.permute(2, 0, 3, 1)])\r\n",
    "\r\n",
    "print(lfs)#.permute(0, 2, 1, 3))\r\n",
    "# Equal to A@X.permute(0,3,2,1)[0][i], i.e. multiplying the adjacency with the feature matrix at each time step.\r\n",
    "# print(A@X.permute(0,3,2,1)[0][0])"
   ]
  },
  {
   "cell_type": "code",
   "execution_count": null,
   "metadata": {},
   "outputs": [],
   "source": [
    "###############################\r\n",
    "# Create Spectral Convolution #\r\n",
    "###############################\r\n",
    "import sys\r\n",
    "sys.path.insert(0, \"../\")\r\n",
    "\r\n",
    "from model.temporal_info_graph import SpectralConvolution\r\n",
    "\r\n",
    "# To double check\r\n",
    "weights = torch.eye(2).type('torch.FloatTensor')\r\n",
    "\r\n",
    "# Weights and activation are optional.\r\n",
    "specConv = SpectralConvolution(c_in=2, c_out=1, weights=weights, activation = None).cpu()\r\n",
    "print(X.shape, specConv(X, A).shape, X.permute(0, 2, 1, 3).shape)\r\n",
    "specConv(X, A)"
   ]
  },
  {
   "cell_type": "markdown",
   "metadata": {},
   "source": [
    "# TemporalInfoGraph: Stacked temporal and spectral convolution."
   ]
  },
  {
   "cell_type": "code",
   "execution_count": null,
   "metadata": {},
   "outputs": [],
   "source": [
    "get_ipython().run_line_magic('load_ext', 'autoreload')\r\n",
    "get_ipython().run_line_magic('autoreload', '2')\r\n",
    "\r\n",
    "import torch\r\n",
    "import numpy as np \r\n",
    "\r\n",
    "# Predefined example tensor for verification\r\n",
    "X = torch.tensor([[\r\n",
    "       [[1, 2, 1, 1],  # f1, n1 , t1 and t2 and t3 and t4\r\n",
    "        [3, 4, 1, 1],  # f1, n2 , t1 and t2 and t3 and t4\r\n",
    "        [2, 1, 1, 1]], # f1, n3 , t1 and t2 and t3 and t4\r\n",
    "       [[2, 2, 1, 1],  # f2, n1 , t1 and t2 and t3 and t4\r\n",
    "        [2, 2, 1, 1],  # f2, n2 , t1 and t2 and t3 and t4\r\n",
    "        [2, 4, 1, 1]]  # f2, n3 , t1 and t2 and t3 and t4\r\n",
    "     ]]).type('torch.FloatTensor').cpu()\r\n",
    "\r\n",
    "A = torch.tensor([\r\n",
    "    [0, 1, 0],\r\n",
    "    [1, 0, 1], \r\n",
    "    [0, 1, 0]\r\n",
    "    ]).type('torch.FloatTensor').cpu()\r\n",
    "\r\n",
    "D = torch.diag(torch.sum(A, dim=0))\r\n",
    "L = D - A"
   ]
  },
  {
   "cell_type": "code",
   "execution_count": null,
   "metadata": {},
   "outputs": [],
   "source": [
    "import sys\r\n",
    "sys.path.insert(0, \"../\")\r\n",
    "\r\n",
    "from model.temporal_info_graph import TemporalInfoGraph\r\n",
    "\r\n",
    "# dim_in corresponds to (H, W), here (nodes, time steps)\r\n",
    "tig = TemporalInfoGraph(c_in=2, c_out=6, spec_out=9, out=7, dim_in=(3,4), tempKernel=3)\r\n",
    "gbl, lcl  = tig(X, A)\r\n",
    "print(X.shape)\r\n",
    "print(gbl.shape)\r\n",
    "# print(gbl)\r\n",
    "print(lcl.shape)\r\n",
    "# print(lcl)"
   ]
  },
  {
   "cell_type": "code",
   "execution_count": null,
   "metadata": {},
   "outputs": [],
   "source": [
    "gbl.mean(dim=1).shape"
   ]
  },
  {
   "cell_type": "markdown",
   "metadata": {},
   "source": [
    "# Data Investigation"
   ]
  },
  {
   "cell_type": "code",
   "execution_count": null,
   "metadata": {},
   "outputs": [],
   "source": [
    "######################\r\n",
    "# Data Investigation #\r\n",
    "######################\r\n",
    "import sys\r\n",
    "sys.path.insert(0, \"../\")\r\n",
    "\r\n",
    "from data.preprocessing import create_skeleton\r\n",
    "\r\n",
    "df_val = create_skeleton(folder=\"../../../Datasets/Kinetics-skeleton/kinetics-skeleton/kinetics_val/\", cat=\"val\", lim=10, to_mongoDB=False)"
   ]
  },
  {
   "cell_type": "code",
   "execution_count": null,
   "metadata": {},
   "outputs": [],
   "source": [
    "from visualization.animation import animate_skeleton\r\n",
    "\r\n",
    "# It can be that we don't have a skeleton in each frame.\r\n",
    "animate_skeleton(df_val.iloc[2], lim_frames=None)"
   ]
  },
  {
   "cell_type": "code",
   "execution_count": null,
   "metadata": {},
   "outputs": [],
   "source": [
    "############################## \r\n",
    "# Example: Read from MongoDB #\r\n",
    "##############################\r\n",
    "import pymongo\r\n",
    "\r\n",
    "db_url = \"\"\r\n",
    "with open(\"../.mongoURL\") as f:\r\n",
    "        db_url = f.readlines()       \r\n",
    "\r\n",
    "client = pymongo.MongoClient(db_url)\r\n",
    "\r\n",
    "collection = client.temporal_info_graph[\"kinect-skeleton\"]\r\n",
    "\r\n",
    "cursor = collection.find({})\r\n",
    "for document in cursor:\r\n",
    "        doc = pd.DataFrame([document])\r\n",
    "        break\r\n",
    "\r\n",
    "# Get feature matrix for sample 1 and frame 1\r\n",
    "X = np.asarray(doc.iloc[0][\"frames\"][0][\"feature_matrices\"][0])"
   ]
  },
  {
   "cell_type": "code",
   "execution_count": null,
   "metadata": {},
   "outputs": [],
   "source": [
    "#####################################\r\n",
    "# Visualize Feature Matrix (Static) #\r\n",
    "#####################################\r\n",
    "import numpy as np \r\n",
    "import networkx as nx \r\n",
    "\r\n",
    "from data import KINECT_ADJACENCY\r\n",
    "\r\n",
    "G = nx.Graph(KINECT_ADJACENCY)\r\n",
    "nx.draw(G, [(x,y) for x,y in X], node_size=50,with_labels=True)"
   ]
  },
  {
   "cell_type": "code",
   "execution_count": 30,
   "metadata": {},
   "outputs": [],
   "source": [
    "import pymongo\r\n",
    "import pandas as pd\r\n",
    "\r\n",
    "db_url = \"\"\r\n",
    "with open(\"../.mongoURL\") as f:\r\n",
    "        db_url = f.readlines()       \r\n",
    "\r\n",
    "experiment = {\"run_id\": 85, \"name\": {\"$regex\": \"MLP.*\"} }\r\n",
    "\r\n",
    "\r\n",
    "client = pymongo.MongoClient(db_url)\r\n",
    "\r\n",
    "collection = client.temporal_info_graph[\"metrics\"]\r\n",
    "\r\n",
    "cursor = collection.find(experiment)\r\n",
    "\r\n",
    "trains_loss = []\r\n",
    "val_loss = []\r\n",
    "val_top1 = []\r\n",
    "val_top5 = []\r\n",
    "\r\n",
    "for doc in cursor:\r\n",
    "    \r\n",
    "    if \"loss\" in doc[\"name\"] and \"train\" in doc[\"name\"]:\r\n",
    "        trains_loss = (doc[\"steps\"], doc[\"values\"])\r\n",
    "    elif \"loss\" in doc[\"name\"] and \"val\" in doc[\"name\"]:\r\n",
    "        val_loss = (doc[\"steps\"], doc[\"values\"])\r\n",
    "    elif \"top1\" in doc[\"name\"] and \"val\" in doc[\"name\"]:\r\n",
    "        val_top1 = (doc[\"steps\"], doc[\"values\"])\r\n",
    "    elif \"top5\" in doc[\"name\"] and \"val\" in doc[\"name\"]:\r\n",
    "        val_top5 = (doc[\"steps\"], doc[\"values\"])\r\n"
   ]
  },
  {
   "cell_type": "code",
   "execution_count": 31,
   "metadata": {},
   "outputs": [
    {
     "data": {
      "text/plain": "[<matplotlib.lines.Line2D at 0x17d2f676be0>]"
     },
     "execution_count": 31,
     "metadata": {},
     "output_type": "execute_result"
    },
    {
     "data": {
      "image/png": "[encoded data removed]",
      "image/svg+xml": "<?xml version=\"1.0\" encoding=\"utf-8\" standalone=\"no\"?>\r\n<!DOCTYPE svg PUBLIC \"-//W3C//DTD SVG 1.1//EN\"\r\n  \"http://www.w3.org/Graphics/SVG/1.1/DTD/svg11.dtd\">\r\n<!-- Created with matplotlib (https://matplotlib.org/) -->\r\n<svg height=\"249.670952pt\" version=\"1.1\" viewBox=\"0 0 384.828125 249.670952\" width=\"384.828125pt\" xmlns=\"http://www.w3.org/2000/svg\" xmlns:xlink=\"http://www.w3.org/1999/xlink\">\r\n <metadata>\r\n  <rdf:RDF xmlns:cc=\"http://creativecommons.org/ns#\" xmlns:dc=\"http://purl.org/dc/elements/1.1/\" xmlns:rdf=\"http://www.w3.org/1999/02/22-rdf-syntax-ns#\">\r\n   <cc:Work>\r\n    <dc:type rdf:resource=\"http://purl.org/dc/dcmitype/StillImage\"/>\r\n    <dc:date>2020-12-04T20:18:53.474373</dc:date>\r\n    <dc:format>image/svg+xml</dc:format>\r\n    <dc:creator>\r\n     <cc:Agent>\r\n      <dc:title>Matplotlib v3.3.2, https://matplotlib.org/</dc:title>\r\n     </cc:Agent>\r\n    </dc:creator>\r\n   </cc:Work>\r\n  </rdf:RDF>\r\n </metadata>\r\n <defs>\r\n  <style type=\"text/css\">*{stroke-linecap:butt;stroke-linejoin:round;}</style>\r\n </defs>\r\n <g id=\"figure_1\">\r\n  <g id=\"patch_1\">\r\n   <path d=\"M 0 249.670952 \r\nL 384.828125 249.670952 \r\nL 384.828125 0 \r\nL 0 0 \r\nz\r\n\" style=\"fill:none;\"/>\r\n  </g>\r\n  <g id=\"axes_1\">\r\n   <g id=\"patch_2\">\r\n    <path d=\"M 42.828125 225.792827 \r\nL 377.628125 225.792827 \r\nL 377.628125 8.352827 \r\nL 42.828125 8.352827 \r\nz\r\n\" style=\"fill:#ffffff;\"/>\r\n   </g>\r\n   <g id=\"matplotlib.axis_1\">\r\n    <g id=\"xtick_1\">\r\n     <g id=\"line2d_1\">\r\n      <defs>\r\n       <path d=\"M 0 0 \r\nL 0 3.5 \r\n\" id=\"m1478299afa\" style=\"stroke:#000000;stroke-width:0.8;\"/>\r\n      </defs>\r\n      <g>\r\n       <use style=\"stroke:#000000;stroke-width:0.8;\" x=\"58.046307\" xlink:href=\"#m1478299afa\" y=\"225.792827\"/>\r\n      </g>\r\n     </g>\r\n     <g id=\"text_1\">\r\n      <!-- 0 -->\r\n      <g transform=\"translate(54.865057 240.391264)scale(0.1 -0.1)\">\r\n       <defs>\r\n        <path d=\"M 31.78125 66.40625 \r\nQ 24.171875 66.40625 20.328125 58.90625 \r\nQ 16.5 51.421875 16.5 36.375 \r\nQ 16.5 21.390625 20.328125 13.890625 \r\nQ 24.171875 6.390625 31.78125 6.390625 \r\nQ 39.453125 6.390625 43.28125 13.890625 \r\nQ 47.125 21.390625 47.125 36.375 \r\nQ 47.125 51.421875 43.28125 58.90625 \r\nQ 39.453125 66.40625 31.78125 66.40625 \r\nz\r\nM 31.78125 74.21875 \r\nQ 44.046875 74.21875 50.515625 64.515625 \r\nQ 56.984375 54.828125 56.984375 36.375 \r\nQ 56.984375 17.96875 50.515625 8.265625 \r\nQ 44.046875 -1.421875 31.78125 -1.421875 \r\nQ 19.53125 -1.421875 13.0625 8.265625 \r\nQ 6.59375 17.96875 6.59375 36.375 \r\nQ 6.59375 54.828125 13.0625 64.515625 \r\nQ 19.53125 74.21875 31.78125 74.21875 \r\nz\r\n\" id=\"DejaVuSans-48\"/>\r\n       </defs>\r\n       <use xlink:href=\"#DejaVuSans-48\"/>\r\n      </g>\r\n     </g>\r\n    </g>\r\n    <g id=\"xtick_2\">\r\n     <g id=\"line2d_2\">\r\n      <g>\r\n       <use style=\"stroke:#000000;stroke-width:0.8;\" x=\"114.139863\" xlink:href=\"#m1478299afa\" y=\"225.792827\"/>\r\n      </g>\r\n     </g>\r\n     <g id=\"text_2\">\r\n      <!-- 500 -->\r\n      <g transform=\"translate(104.596113 240.391264)scale(0.1 -0.1)\">\r\n       <defs>\r\n        <path d=\"M 10.796875 72.90625 \r\nL 49.515625 72.90625 \r\nL 49.515625 64.59375 \r\nL 19.828125 64.59375 \r\nL 19.828125 46.734375 \r\nQ 21.96875 47.46875 24.109375 47.828125 \r\nQ 26.265625 48.1875 28.421875 48.1875 \r\nQ 40.625 48.1875 47.75 41.5 \r\nQ 54.890625 34.8125 54.890625 23.390625 \r\nQ 54.890625 11.625 47.5625 5.09375 \r\nQ 40.234375 -1.421875 26.90625 -1.421875 \r\nQ 22.3125 -1.421875 17.546875 -0.640625 \r\nQ 12.796875 0.140625 7.71875 1.703125 \r\nL 7.71875 11.625 \r\nQ 12.109375 9.234375 16.796875 8.0625 \r\nQ 21.484375 6.890625 26.703125 6.890625 \r\nQ 35.15625 6.890625 40.078125 11.328125 \r\nQ 45.015625 15.765625 45.015625 23.390625 \r\nQ 45.015625 31 40.078125 35.4375 \r\nQ 35.15625 39.890625 26.703125 39.890625 \r\nQ 22.75 39.890625 18.8125 39.015625 \r\nQ 14.890625 38.140625 10.796875 36.28125 \r\nz\r\n\" id=\"DejaVuSans-53\"/>\r\n       </defs>\r\n       <use xlink:href=\"#DejaVuSans-53\"/>\r\n       <use x=\"63.623047\" xlink:href=\"#DejaVuSans-48\"/>\r\n       <use x=\"127.246094\" xlink:href=\"#DejaVuSans-48\"/>\r\n      </g>\r\n     </g>\r\n    </g>\r\n    <g id=\"xtick_3\">\r\n     <g id=\"line2d_3\">\r\n      <g>\r\n       <use style=\"stroke:#000000;stroke-width:0.8;\" x=\"170.233419\" xlink:href=\"#m1478299afa\" y=\"225.792827\"/>\r\n      </g>\r\n     </g>\r\n     <g id=\"text_3\">\r\n      <!-- 1000 -->\r\n      <g transform=\"translate(157.508419 240.391264)scale(0.1 -0.1)\">\r\n       <defs>\r\n        <path d=\"M 12.40625 8.296875 \r\nL 28.515625 8.296875 \r\nL 28.515625 63.921875 \r\nL 10.984375 60.40625 \r\nL 10.984375 69.390625 \r\nL 28.421875 72.90625 \r\nL 38.28125 72.90625 \r\nL 38.28125 8.296875 \r\nL 54.390625 8.296875 \r\nL 54.390625 0 \r\nL 12.40625 0 \r\nz\r\n\" id=\"DejaVuSans-49\"/>\r\n       </defs>\r\n       <use xlink:href=\"#DejaVuSans-49\"/>\r\n       <use x=\"63.623047\" xlink:href=\"#DejaVuSans-48\"/>\r\n       <use x=\"127.246094\" xlink:href=\"#DejaVuSans-48\"/>\r\n       <use x=\"190.869141\" xlink:href=\"#DejaVuSans-48\"/>\r\n      </g>\r\n     </g>\r\n    </g>\r\n    <g id=\"xtick_4\">\r\n     <g id=\"line2d_4\">\r\n      <g>\r\n       <use style=\"stroke:#000000;stroke-width:0.8;\" x=\"226.326976\" xlink:href=\"#m1478299afa\" y=\"225.792827\"/>\r\n      </g>\r\n     </g>\r\n     <g id=\"text_4\">\r\n      <!-- 1500 -->\r\n      <g transform=\"translate(213.601976 240.391264)scale(0.1 -0.1)\">\r\n       <use xlink:href=\"#DejaVuSans-49\"/>\r\n       <use x=\"63.623047\" xlink:href=\"#DejaVuSans-53\"/>\r\n       <use x=\"127.246094\" xlink:href=\"#DejaVuSans-48\"/>\r\n       <use x=\"190.869141\" xlink:href=\"#DejaVuSans-48\"/>\r\n      </g>\r\n     </g>\r\n    </g>\r\n    <g id=\"xtick_5\">\r\n     <g id=\"line2d_5\">\r\n      <g>\r\n       <use style=\"stroke:#000000;stroke-width:0.8;\" x=\"282.420532\" xlink:href=\"#m1478299afa\" y=\"225.792827\"/>\r\n      </g>\r\n     </g>\r\n     <g id=\"text_5\">\r\n      <!-- 2000 -->\r\n      <g transform=\"translate(269.695532 240.391264)scale(0.1 -0.1)\">\r\n       <defs>\r\n        <path d=\"M 19.1875 8.296875 \r\nL 53.609375 8.296875 \r\nL 53.609375 0 \r\nL 7.328125 0 \r\nL 7.328125 8.296875 \r\nQ 12.9375 14.109375 22.625 23.890625 \r\nQ 32.328125 33.6875 34.8125 36.53125 \r\nQ 39.546875 41.84375 41.421875 45.53125 \r\nQ 43.3125 49.21875 43.3125 52.78125 \r\nQ 43.3125 58.59375 39.234375 62.25 \r\nQ 35.15625 65.921875 28.609375 65.921875 \r\nQ 23.96875 65.921875 18.8125 64.3125 \r\nQ 13.671875 62.703125 7.8125 59.421875 \r\nL 7.8125 69.390625 \r\nQ 13.765625 71.78125 18.9375 73 \r\nQ 24.125 74.21875 28.421875 74.21875 \r\nQ 39.75 74.21875 46.484375 68.546875 \r\nQ 53.21875 62.890625 53.21875 53.421875 \r\nQ 53.21875 48.921875 51.53125 44.890625 \r\nQ 49.859375 40.875 45.40625 35.40625 \r\nQ 44.1875 33.984375 37.640625 27.21875 \r\nQ 31.109375 20.453125 19.1875 8.296875 \r\nz\r\n\" id=\"DejaVuSans-50\"/>\r\n       </defs>\r\n       <use xlink:href=\"#DejaVuSans-50\"/>\r\n       <use x=\"63.623047\" xlink:href=\"#DejaVuSans-48\"/>\r\n       <use x=\"127.246094\" xlink:href=\"#DejaVuSans-48\"/>\r\n       <use x=\"190.869141\" xlink:href=\"#DejaVuSans-48\"/>\r\n      </g>\r\n     </g>\r\n    </g>\r\n    <g id=\"xtick_6\">\r\n     <g id=\"line2d_6\">\r\n      <g>\r\n       <use style=\"stroke:#000000;stroke-width:0.8;\" x=\"338.514088\" xlink:href=\"#m1478299afa\" y=\"225.792827\"/>\r\n      </g>\r\n     </g>\r\n     <g id=\"text_6\">\r\n      <!-- 2500 -->\r\n      <g transform=\"translate(325.789088 240.391264)scale(0.1 -0.1)\">\r\n       <use xlink:href=\"#DejaVuSans-50\"/>\r\n       <use x=\"63.623047\" xlink:href=\"#DejaVuSans-53\"/>\r\n       <use x=\"127.246094\" xlink:href=\"#DejaVuSans-48\"/>\r\n       <use x=\"190.869141\" xlink:href=\"#DejaVuSans-48\"/>\r\n      </g>\r\n     </g>\r\n    </g>\r\n   </g>\r\n   <g id=\"matplotlib.axis_2\">\r\n    <g id=\"ytick_1\">\r\n     <g id=\"line2d_7\">\r\n      <defs>\r\n       <path d=\"M 0 0 \r\nL -3.5 0 \r\n\" id=\"mdfde3f5822\" style=\"stroke:#000000;stroke-width:0.8;\"/>\r\n      </defs>\r\n      <g>\r\n       <use style=\"stroke:#000000;stroke-width:0.8;\" x=\"42.828125\" xlink:href=\"#mdfde3f5822\" y=\"205.243919\"/>\r\n      </g>\r\n     </g>\r\n     <g id=\"text_7\">\r\n      <!-- 3.700 -->\r\n      <g transform=\"translate(7.2 209.043138)scale(0.1 -0.1)\">\r\n       <defs>\r\n        <path d=\"M 40.578125 39.3125 \r\nQ 47.65625 37.796875 51.625 33 \r\nQ 55.609375 28.21875 55.609375 21.1875 \r\nQ 55.609375 10.40625 48.1875 4.484375 \r\nQ 40.765625 -1.421875 27.09375 -1.421875 \r\nQ 22.515625 -1.421875 17.65625 -0.515625 \r\nQ 12.796875 0.390625 7.625 2.203125 \r\nL 7.625 11.71875 \r\nQ 11.71875 9.328125 16.59375 8.109375 \r\nQ 21.484375 6.890625 26.8125 6.890625 \r\nQ 36.078125 6.890625 40.9375 10.546875 \r\nQ 45.796875 14.203125 45.796875 21.1875 \r\nQ 45.796875 27.640625 41.28125 31.265625 \r\nQ 36.765625 34.90625 28.71875 34.90625 \r\nL 20.21875 34.90625 \r\nL 20.21875 43.015625 \r\nL 29.109375 43.015625 \r\nQ 36.375 43.015625 40.234375 45.921875 \r\nQ 44.09375 48.828125 44.09375 54.296875 \r\nQ 44.09375 59.90625 40.109375 62.90625 \r\nQ 36.140625 65.921875 28.71875 65.921875 \r\nQ 24.65625 65.921875 20.015625 65.03125 \r\nQ 15.375 64.15625 9.8125 62.3125 \r\nL 9.8125 71.09375 \r\nQ 15.4375 72.65625 20.34375 73.4375 \r\nQ 25.25 74.21875 29.59375 74.21875 \r\nQ 40.828125 74.21875 47.359375 69.109375 \r\nQ 53.90625 64.015625 53.90625 55.328125 \r\nQ 53.90625 49.265625 50.4375 45.09375 \r\nQ 46.96875 40.921875 40.578125 39.3125 \r\nz\r\n\" id=\"DejaVuSans-51\"/>\r\n        <path d=\"M 10.6875 12.40625 \r\nL 21 12.40625 \r\nL 21 0 \r\nL 10.6875 0 \r\nz\r\n\" id=\"DejaVuSans-46\"/>\r\n        <path d=\"M 8.203125 72.90625 \r\nL 55.078125 72.90625 \r\nL 55.078125 68.703125 \r\nL 28.609375 0 \r\nL 18.3125 0 \r\nL 43.21875 64.59375 \r\nL 8.203125 64.59375 \r\nz\r\n\" id=\"DejaVuSans-55\"/>\r\n       </defs>\r\n       <use xlink:href=\"#DejaVuSans-51\"/>\r\n       <use x=\"63.623047\" xlink:href=\"#DejaVuSans-46\"/>\r\n       <use x=\"95.410156\" xlink:href=\"#DejaVuSans-55\"/>\r\n       <use x=\"159.033203\" xlink:href=\"#DejaVuSans-48\"/>\r\n       <use x=\"222.65625\" xlink:href=\"#DejaVuSans-48\"/>\r\n      </g>\r\n     </g>\r\n    </g>\r\n    <g id=\"ytick_2\">\r\n     <g id=\"line2d_8\">\r\n      <g>\r\n       <use style=\"stroke:#000000;stroke-width:0.8;\" x=\"42.828125\" xlink:href=\"#mdfde3f5822\" y=\"180.963332\"/>\r\n      </g>\r\n     </g>\r\n     <g id=\"text_8\">\r\n      <!-- 3.725 -->\r\n      <g transform=\"translate(7.2 184.76255)scale(0.1 -0.1)\">\r\n       <use xlink:href=\"#DejaVuSans-51\"/>\r\n       <use x=\"63.623047\" xlink:href=\"#DejaVuSans-46\"/>\r\n       <use x=\"95.410156\" xlink:href=\"#DejaVuSans-55\"/>\r\n       <use x=\"159.033203\" xlink:href=\"#DejaVuSans-50\"/>\r\n       <use x=\"222.65625\" xlink:href=\"#DejaVuSans-53\"/>\r\n      </g>\r\n     </g>\r\n    </g>\r\n    <g id=\"ytick_3\">\r\n     <g id=\"line2d_9\">\r\n      <g>\r\n       <use style=\"stroke:#000000;stroke-width:0.8;\" x=\"42.828125\" xlink:href=\"#mdfde3f5822\" y=\"156.682744\"/>\r\n      </g>\r\n     </g>\r\n     <g id=\"text_9\">\r\n      <!-- 3.750 -->\r\n      <g transform=\"translate(7.2 160.481963)scale(0.1 -0.1)\">\r\n       <use xlink:href=\"#DejaVuSans-51\"/>\r\n       <use x=\"63.623047\" xlink:href=\"#DejaVuSans-46\"/>\r\n       <use x=\"95.410156\" xlink:href=\"#DejaVuSans-55\"/>\r\n       <use x=\"159.033203\" xlink:href=\"#DejaVuSans-53\"/>\r\n       <use x=\"222.65625\" xlink:href=\"#DejaVuSans-48\"/>\r\n      </g>\r\n     </g>\r\n    </g>\r\n    <g id=\"ytick_4\">\r\n     <g id=\"line2d_10\">\r\n      <g>\r\n       <use style=\"stroke:#000000;stroke-width:0.8;\" x=\"42.828125\" xlink:href=\"#mdfde3f5822\" y=\"132.402156\"/>\r\n      </g>\r\n     </g>\r\n     <g id=\"text_10\">\r\n      <!-- 3.775 -->\r\n      <g transform=\"translate(7.2 136.201375)scale(0.1 -0.1)\">\r\n       <use xlink:href=\"#DejaVuSans-51\"/>\r\n       <use x=\"63.623047\" xlink:href=\"#DejaVuSans-46\"/>\r\n       <use x=\"95.410156\" xlink:href=\"#DejaVuSans-55\"/>\r\n       <use x=\"159.033203\" xlink:href=\"#DejaVuSans-55\"/>\r\n       <use x=\"222.65625\" xlink:href=\"#DejaVuSans-53\"/>\r\n      </g>\r\n     </g>\r\n    </g>\r\n    <g id=\"ytick_5\">\r\n     <g id=\"line2d_11\">\r\n      <g>\r\n       <use style=\"stroke:#000000;stroke-width:0.8;\" x=\"42.828125\" xlink:href=\"#mdfde3f5822\" y=\"108.121569\"/>\r\n      </g>\r\n     </g>\r\n     <g id=\"text_11\">\r\n      <!-- 3.800 -->\r\n      <g transform=\"translate(7.2 111.920788)scale(0.1 -0.1)\">\r\n       <defs>\r\n        <path d=\"M 31.78125 34.625 \r\nQ 24.75 34.625 20.71875 30.859375 \r\nQ 16.703125 27.09375 16.703125 20.515625 \r\nQ 16.703125 13.921875 20.71875 10.15625 \r\nQ 24.75 6.390625 31.78125 6.390625 \r\nQ 38.8125 6.390625 42.859375 10.171875 \r\nQ 46.921875 13.96875 46.921875 20.515625 \r\nQ 46.921875 27.09375 42.890625 30.859375 \r\nQ 38.875 34.625 31.78125 34.625 \r\nz\r\nM 21.921875 38.8125 \r\nQ 15.578125 40.375 12.03125 44.71875 \r\nQ 8.5 49.078125 8.5 55.328125 \r\nQ 8.5 64.0625 14.71875 69.140625 \r\nQ 20.953125 74.21875 31.78125 74.21875 \r\nQ 42.671875 74.21875 48.875 69.140625 \r\nQ 55.078125 64.0625 55.078125 55.328125 \r\nQ 55.078125 49.078125 51.53125 44.71875 \r\nQ 48 40.375 41.703125 38.8125 \r\nQ 48.828125 37.15625 52.796875 32.3125 \r\nQ 56.78125 27.484375 56.78125 20.515625 \r\nQ 56.78125 9.90625 50.3125 4.234375 \r\nQ 43.84375 -1.421875 31.78125 -1.421875 \r\nQ 19.734375 -1.421875 13.25 4.234375 \r\nQ 6.78125 9.90625 6.78125 20.515625 \r\nQ 6.78125 27.484375 10.78125 32.3125 \r\nQ 14.796875 37.15625 21.921875 38.8125 \r\nz\r\nM 18.3125 54.390625 \r\nQ 18.3125 48.734375 21.84375 45.5625 \r\nQ 25.390625 42.390625 31.78125 42.390625 \r\nQ 38.140625 42.390625 41.71875 45.5625 \r\nQ 45.3125 48.734375 45.3125 54.390625 \r\nQ 45.3125 60.0625 41.71875 63.234375 \r\nQ 38.140625 66.40625 31.78125 66.40625 \r\nQ 25.390625 66.40625 21.84375 63.234375 \r\nQ 18.3125 60.0625 18.3125 54.390625 \r\nz\r\n\" id=\"DejaVuSans-56\"/>\r\n       </defs>\r\n       <use xlink:href=\"#DejaVuSans-51\"/>\r\n       <use x=\"63.623047\" xlink:href=\"#DejaVuSans-46\"/>\r\n       <use x=\"95.410156\" xlink:href=\"#DejaVuSans-56\"/>\r\n       <use x=\"159.033203\" xlink:href=\"#DejaVuSans-48\"/>\r\n       <use x=\"222.65625\" xlink:href=\"#DejaVuSans-48\"/>\r\n      </g>\r\n     </g>\r\n    </g>\r\n    <g id=\"ytick_6\">\r\n     <g id=\"line2d_12\">\r\n      <g>\r\n       <use style=\"stroke:#000000;stroke-width:0.8;\" x=\"42.828125\" xlink:href=\"#mdfde3f5822\" y=\"83.840981\"/>\r\n      </g>\r\n     </g>\r\n     <g id=\"text_12\">\r\n      <!-- 3.825 -->\r\n      <g transform=\"translate(7.2 87.6402)scale(0.1 -0.1)\">\r\n       <use xlink:href=\"#DejaVuSans-51\"/>\r\n       <use x=\"63.623047\" xlink:href=\"#DejaVuSans-46\"/>\r\n       <use x=\"95.410156\" xlink:href=\"#DejaVuSans-56\"/>\r\n       <use x=\"159.033203\" xlink:href=\"#DejaVuSans-50\"/>\r\n       <use x=\"222.65625\" xlink:href=\"#DejaVuSans-53\"/>\r\n      </g>\r\n     </g>\r\n    </g>\r\n    <g id=\"ytick_7\">\r\n     <g id=\"line2d_13\">\r\n      <g>\r\n       <use style=\"stroke:#000000;stroke-width:0.8;\" x=\"42.828125\" xlink:href=\"#mdfde3f5822\" y=\"59.560394\"/>\r\n      </g>\r\n     </g>\r\n     <g id=\"text_13\">\r\n      <!-- 3.850 -->\r\n      <g transform=\"translate(7.2 63.359613)scale(0.1 -0.1)\">\r\n       <use xlink:href=\"#DejaVuSans-51\"/>\r\n       <use x=\"63.623047\" xlink:href=\"#DejaVuSans-46\"/>\r\n       <use x=\"95.410156\" xlink:href=\"#DejaVuSans-56\"/>\r\n       <use x=\"159.033203\" xlink:href=\"#DejaVuSans-53\"/>\r\n       <use x=\"222.65625\" xlink:href=\"#DejaVuSans-48\"/>\r\n      </g>\r\n     </g>\r\n    </g>\r\n    <g id=\"ytick_8\">\r\n     <g id=\"line2d_14\">\r\n      <g>\r\n       <use style=\"stroke:#000000;stroke-width:0.8;\" x=\"42.828125\" xlink:href=\"#mdfde3f5822\" y=\"35.279806\"/>\r\n      </g>\r\n     </g>\r\n     <g id=\"text_14\">\r\n      <!-- 3.875 -->\r\n      <g transform=\"translate(7.2 39.079025)scale(0.1 -0.1)\">\r\n       <use xlink:href=\"#DejaVuSans-51\"/>\r\n       <use x=\"63.623047\" xlink:href=\"#DejaVuSans-46\"/>\r\n       <use x=\"95.410156\" xlink:href=\"#DejaVuSans-56\"/>\r\n       <use x=\"159.033203\" xlink:href=\"#DejaVuSans-55\"/>\r\n       <use x=\"222.65625\" xlink:href=\"#DejaVuSans-53\"/>\r\n      </g>\r\n     </g>\r\n    </g>\r\n    <g id=\"ytick_9\">\r\n     <g id=\"line2d_15\">\r\n      <g>\r\n       <use style=\"stroke:#000000;stroke-width:0.8;\" x=\"42.828125\" xlink:href=\"#mdfde3f5822\" y=\"10.999219\"/>\r\n      </g>\r\n     </g>\r\n     <g id=\"text_15\">\r\n      <!-- 3.900 -->\r\n      <g transform=\"translate(7.2 14.798437)scale(0.1 -0.1)\">\r\n       <defs>\r\n        <path d=\"M 10.984375 1.515625 \r\nL 10.984375 10.5 \r\nQ 14.703125 8.734375 18.5 7.8125 \r\nQ 22.3125 6.890625 25.984375 6.890625 \r\nQ 35.75 6.890625 40.890625 13.453125 \r\nQ 46.046875 20.015625 46.78125 33.40625 \r\nQ 43.953125 29.203125 39.59375 26.953125 \r\nQ 35.25 24.703125 29.984375 24.703125 \r\nQ 19.046875 24.703125 12.671875 31.3125 \r\nQ 6.296875 37.9375 6.296875 49.421875 \r\nQ 6.296875 60.640625 12.9375 67.421875 \r\nQ 19.578125 74.21875 30.609375 74.21875 \r\nQ 43.265625 74.21875 49.921875 64.515625 \r\nQ 56.59375 54.828125 56.59375 36.375 \r\nQ 56.59375 19.140625 48.40625 8.859375 \r\nQ 40.234375 -1.421875 26.421875 -1.421875 \r\nQ 22.703125 -1.421875 18.890625 -0.6875 \r\nQ 15.09375 0.046875 10.984375 1.515625 \r\nz\r\nM 30.609375 32.421875 \r\nQ 37.25 32.421875 41.125 36.953125 \r\nQ 45.015625 41.5 45.015625 49.421875 \r\nQ 45.015625 57.28125 41.125 61.84375 \r\nQ 37.25 66.40625 30.609375 66.40625 \r\nQ 23.96875 66.40625 20.09375 61.84375 \r\nQ 16.21875 57.28125 16.21875 49.421875 \r\nQ 16.21875 41.5 20.09375 36.953125 \r\nQ 23.96875 32.421875 30.609375 32.421875 \r\nz\r\n\" id=\"DejaVuSans-57\"/>\r\n       </defs>\r\n       <use xlink:href=\"#DejaVuSans-51\"/>\r\n       <use x=\"63.623047\" xlink:href=\"#DejaVuSans-46\"/>\r\n       <use x=\"95.410156\" xlink:href=\"#DejaVuSans-57\"/>\r\n       <use x=\"159.033203\" xlink:href=\"#DejaVuSans-48\"/>\r\n       <use x=\"222.65625\" xlink:href=\"#DejaVuSans-48\"/>\r\n      </g>\r\n     </g>\r\n    </g>\r\n   </g>\r\n   <g id=\"line2d_16\">\r\n    <path clip-path=\"url(#p297429aa2e)\" d=\"M 58.046307 70.222562 \r\nL 58.158494 110.8709 \r\nL 58.270681 104.764028 \r\nL 58.382868 64.180063 \r\nL 58.495055 105.504087 \r\nL 58.607242 18.236463 \r\nL 58.831617 116.382669 \r\nL 58.943804 117.723388 \r\nL 59.168178 90.497757 \r\nL 59.280365 111.718865 \r\nL 59.504739 53.361223 \r\nL 59.841301 130.570905 \r\nL 60.065675 99.724869 \r\nL 60.177862 84.068556 \r\nL 60.290049 93.861133 \r\nL 60.402236 92.925176 \r\nL 60.514423 108.625253 \r\nL 60.62661 106.480566 \r\nL 60.738798 71.02491 \r\nL 60.850985 138.14979 \r\nL 61.075359 102.55381 \r\nL 61.187546 89.347841 \r\nL 61.299733 140.904169 \r\nL 61.41192 58.751887 \r\nL 61.636294 104.860819 \r\nL 61.748482 97.180281 \r\nL 61.972856 55.774055 \r\nL 62.085043 60.983177 \r\nL 62.19723 95.507045 \r\nL 62.309417 91.580057 \r\nL 62.421604 95.957425 \r\nL 62.758166 63.111424 \r\nL 62.870353 102.849509 \r\nL 62.98254 100.223413 \r\nL 63.094727 60.917646 \r\nL 63.319101 89.767887 \r\nL 63.431288 130.830945 \r\nL 63.543475 94.223057 \r\nL 63.655662 113.631994 \r\nL 63.76785 83.358832 \r\nL 63.880037 83.363 \r\nL 64.104411 104.818907 \r\nL 64.216598 86.84146 \r\nL 64.328785 114.633482 \r\nL 64.440972 98.375119 \r\nL 64.553159 118.272411 \r\nL 64.665346 101.738495 \r\nL 64.777534 143.170656 \r\nL 65.001908 81.164822 \r\nL 65.114095 97.998143 \r\nL 65.226282 40.555849 \r\nL 65.450656 120.89735 \r\nL 65.562843 76.473231 \r\nL 65.787218 107.139579 \r\nL 65.899405 63.703054 \r\nL 66.123779 97.730694 \r\nL 66.235966 90.241422 \r\nL 66.348153 74.743727 \r\nL 66.46034 98.252625 \r\nL 66.684714 65.520319 \r\nL 66.909089 121.749482 \r\nL 67.021276 116.655675 \r\nL 67.133463 135.039275 \r\nL 67.24565 79.438328 \r\nL 67.357837 80.610473 \r\nL 67.470024 88.522569 \r\nL 67.582211 111.102689 \r\nL 67.694398 90.864081 \r\nL 67.806586 146.110744 \r\nL 67.918773 79.790759 \r\nL 68.03096 94.722064 \r\nL 68.143147 75.026922 \r\nL 68.479708 124.096783 \r\nL 68.591895 121.930329 \r\nL 68.704083 76.674687 \r\nL 69.040644 144.195994 \r\nL 69.152831 69.610787 \r\nL 69.265018 119.710616 \r\nL 69.377205 66.927264 \r\nL 69.489392 127.678749 \r\nL 69.601579 88.250489 \r\nL 69.713767 125.55606 \r\nL 69.825954 116.48548 \r\nL 69.938141 78.202041 \r\nL 70.050328 114.149758 \r\nL 70.162515 60.227373 \r\nL 70.274702 62.084466 \r\nL 70.611263 119.591596 \r\nL 70.723451 83.505176 \r\nL 70.835638 106.178614 \r\nL 70.947825 89.645161 \r\nL 71.060012 92.914293 \r\nL 71.172199 109.84371 \r\nL 71.396573 76.324108 \r\nL 71.50876 84.443217 \r\nL 71.620947 104.020959 \r\nL 71.733135 61.010733 \r\nL 71.957509 87.723927 \r\nL 72.181883 126.85533 \r\nL 72.406257 85.861508 \r\nL 72.518444 92.134638 \r\nL 72.630631 87.739209 \r\nL 72.742819 123.494038 \r\nL 72.967193 109.855751 \r\nL 73.07938 46.816707 \r\nL 73.303754 121.782826 \r\nL 73.415941 100.747659 \r\nL 73.528128 103.447854 \r\nL 73.752503 89.634278 \r\nL 73.86469 49.162155 \r\nL 73.976877 101.241572 \r\nL 74.089064 63.141758 \r\nL 74.313438 128.304418 \r\nL 74.425625 92.513004 \r\nL 74.537812 134.59862 \r\nL 74.649999 66.325445 \r\nL 74.874374 102.616793 \r\nL 75.098748 63.618073 \r\nL 75.210935 130.277059 \r\nL 75.323122 124.032641 \r\nL 75.547496 94.367086 \r\nL 75.659683 105.499224 \r\nL 75.884058 88.640432 \r\nL 75.996245 113.823261 \r\nL 76.108432 108.440239 \r\nL 76.220619 117.288523 \r\nL 76.332806 88.766399 \r\nL 76.444993 119.175023 \r\nL 76.55718 59.027904 \r\nL 76.781555 105.887546 \r\nL 77.118116 74.118752 \r\nL 77.230303 137.253661 \r\nL 77.34249 42.09756 \r\nL 77.454677 112.701596 \r\nL 77.566864 92.952269 \r\nL 77.679052 94.071619 \r\nL 77.903426 129.743086 \r\nL 78.1278 66.92958 \r\nL 78.239987 87.280957 \r\nL 78.352174 86.231074 \r\nL 78.464361 45.442875 \r\nL 78.688736 89.947112 \r\nL 78.800923 67.269506 \r\nL 78.91311 105.08242 \r\nL 79.025297 105.148877 \r\nL 79.137484 117.97046 \r\nL 79.249671 51.716468 \r\nL 79.361858 121.808761 \r\nL 79.474045 105.68146 \r\nL 79.586232 69.559612 \r\nL 79.69842 94.753093 \r\nL 79.810607 58.875307 \r\nL 79.922794 131.289892 \r\nL 80.034981 65.235503 \r\nL 80.147168 106.344641 \r\nL 80.259355 99.335852 \r\nL 80.371542 102.243059 \r\nL 80.483729 133.780295 \r\nL 80.595916 106.830681 \r\nL 80.708104 108.109574 \r\nL 80.932478 82.822081 \r\nL 81.044665 108.687542 \r\nL 81.156852 85.49611 \r\nL 81.269039 107.760617 \r\nL 81.381226 98.273697 \r\nL 81.493413 108.902428 \r\nL 81.6056 91.923689 \r\nL 81.717788 110.329287 \r\nL 81.942162 88.799744 \r\nL 82.054349 95.607078 \r\nL 82.166536 92.783 \r\nL 82.278723 102.162014 \r\nL 82.39091 61.678777 \r\nL 82.503097 103.036144 \r\nL 82.615284 93.554319 \r\nL 82.727472 111.476655 \r\nL 82.839659 110.523332 \r\nL 83.064033 123.055699 \r\nL 83.17622 122.123679 \r\nL 83.288407 136.203084 \r\nL 83.400594 169.67869 \r\nL 83.512781 114.039999 \r\nL 83.624968 126.629098 \r\nL 83.737156 76.347727 \r\nL 83.849343 78.466943 \r\nL 83.96153 109.691577 \r\nL 84.073717 80.782752 \r\nL 84.185904 120.420341 \r\nL 84.298091 101.830192 \r\nL 84.410278 134.532395 \r\nL 84.522465 74.178263 \r\nL 84.634652 99.264764 \r\nL 84.74684 98.802111 \r\nL 84.859027 104.109878 \r\nL 84.971214 82.963794 \r\nL 85.083401 100.227812 \r\nL 85.195588 91.376981 \r\nL 85.307775 103.364725 \r\nL 85.419962 95.991695 \r\nL 85.532149 97.983323 \r\nL 85.644337 53.179219 \r\nL 85.868711 120.156828 \r\nL 86.093085 98.933868 \r\nL 86.205272 86.130346 \r\nL 86.317459 122.113259 \r\nL 86.429646 67.90629 \r\nL 86.541833 133.308149 \r\nL 86.766208 98.112301 \r\nL 86.878395 80.706107 \r\nL 87.102769 109.465113 \r\nL 87.214956 86.383902 \r\nL 87.43933 113.369176 \r\nL 87.551517 129.989927 \r\nL 87.775892 87.347414 \r\nL 87.888079 96.091497 \r\nL 88.000266 119.85094 \r\nL 88.112453 109.767759 \r\nL 88.22464 115.933215 \r\nL 88.336827 108.357804 \r\nL 88.449014 81.345901 \r\nL 88.561201 99.966152 \r\nL 88.673389 85.713311 \r\nL 88.785576 86.53673 \r\nL 88.897763 130.43776 \r\nL 89.346511 81.162738 \r\nL 89.458698 114.468381 \r\nL 89.570885 90.962725 \r\nL 89.79526 119.841215 \r\nL 89.907447 108.487013 \r\nL 90.019634 61.456713 \r\nL 90.131821 84.811857 \r\nL 90.244008 81.915533 \r\nL 90.356195 94.191334 \r\nL 90.468382 90.423658 \r\nL 90.580569 50.179388 \r\nL 90.692757 101.967737 \r\nL 90.804944 80.016528 \r\nL 90.917131 91.059284 \r\nL 91.141505 129.14752 \r\nL 91.365879 99.321032 \r\nL 91.590253 86.736564 \r\nL 91.702441 139.761663 \r\nL 91.814628 102.768001 \r\nL 91.926815 104.836274 \r\nL 92.151189 88.915754 \r\nL 92.263376 83.547088 \r\nL 92.375563 98.025467 \r\nL 92.48775 129.819964 \r\nL 92.599937 101.399031 \r\nL 92.712125 114.582539 \r\nL 92.824312 76.852986 \r\nL 92.936499 84.662965 \r\nL 93.048686 122.112565 \r\nL 93.160873 121.683257 \r\nL 93.27306 105.166244 \r\nL 93.385247 126.941238 \r\nL 93.497434 122.423547 \r\nL 93.609621 128.527408 \r\nL 93.721809 85.161277 \r\nL 94.05837 138.390841 \r\nL 94.282744 61.082747 \r\nL 94.394931 116.470661 \r\nL 94.507118 96.796821 \r\nL 94.619306 104.545206 \r\nL 94.84368 68.041288 \r\nL 94.955867 77.615042 \r\nL 95.068054 110.368188 \r\nL 95.292428 101.315207 \r\nL 95.404615 115.482372 \r\nL 95.516802 53.055798 \r\nL 95.741177 117.006254 \r\nL 95.853364 94.115615 \r\nL 96.077738 112.409138 \r\nL 96.189925 95.865728 \r\nL 96.302112 125.12351 \r\nL 96.414299 94.137613 \r\nL 96.638674 113.55697 \r\nL 96.750861 106.845732 \r\nL 96.975235 48.218326 \r\nL 97.199609 146.899662 \r\nL 97.311796 91.498318 \r\nL 97.423983 94.550017 \r\nL 97.53617 109.62512 \r\nL 97.648358 57.039749 \r\nL 97.872732 108.12671 \r\nL 97.984919 91.026403 \r\nL 98.097106 109.140701 \r\nL 98.209293 102.939816 \r\nL 98.32148 136.363785 \r\nL 98.433667 84.346889 \r\nL 98.882416 137.695705 \r\nL 98.994603 91.988988 \r\nL 99.10679 100.049744 \r\nL 99.218977 78.428042 \r\nL 99.331164 80.239286 \r\nL 99.443351 95.69808 \r\nL 99.555538 86.74629 \r\nL 99.667726 110.108381 \r\nL 99.779913 83.059196 \r\nL 99.8921 104.726747 \r\nL 100.004287 84.058136 \r\nL 100.116474 123.878424 \r\nL 100.228661 75.35365 \r\nL 100.340848 116.194875 \r\nL 100.453035 86.9276 \r\nL 100.67741 137.79898 \r\nL 100.789597 89.864446 \r\nL 101.013971 122.55785 \r\nL 101.126158 114.261137 \r\nL 101.238345 123.690631 \r\nL 101.462719 95.802976 \r\nL 101.687094 119.648096 \r\nL 101.799281 81.048349 \r\nL 101.911468 111.099216 \r\nL 102.023655 106.050563 \r\nL 102.135842 74.490634 \r\nL 102.472403 97.179586 \r\nL 102.584591 118.362256 \r\nL 102.696778 98.066221 \r\nL 102.808965 120.157986 \r\nL 102.921152 110.926474 \r\nL 103.033339 116.36646 \r\nL 103.145526 128.388937 \r\nL 103.482087 71.025836 \r\nL 103.706462 143.338304 \r\nL 103.818649 130.37246 \r\nL 103.930836 94.417334 \r\nL 104.043023 116.202285 \r\nL 104.267397 78.447724 \r\nL 104.379584 127.264493 \r\nL 104.716146 107.273419 \r\nL 104.828333 133.079139 \r\nL 104.94052 94.440027 \r\nL 105.052707 103.971175 \r\nL 105.164894 139.52038 \r\nL 105.501455 87.283967 \r\nL 105.613643 94.289978 \r\nL 105.72583 135.712182 \r\nL 105.838017 100.809022 \r\nL 105.950204 155.803056 \r\nL 106.174578 99.861488 \r\nL 106.286765 132.245762 \r\nL 106.398952 84.432102 \r\nL 106.623327 120.060037 \r\nL 106.735514 82.039184 \r\nL 106.959888 111.160579 \r\nL 107.072075 57.817783 \r\nL 107.184262 104.256454 \r\nL 107.296449 94.876282 \r\nL 107.408636 137.921705 \r\nL 107.520823 77.26539 \r\nL 107.745198 114.010591 \r\nL 107.857385 126.485764 \r\nL 108.081759 81.949108 \r\nL 108.193946 107.720557 \r\nL 108.41832 94.556732 \r\nL 108.642695 119.23245 \r\nL 108.754882 115.084093 \r\nL 108.867069 126.806934 \r\nL 108.979256 82.063266 \r\nL 109.091443 111.840201 \r\nL 109.315817 84.435112 \r\nL 109.428004 96.44578 \r\nL 109.540191 75.753087 \r\nL 109.764566 128.815466 \r\nL 109.876753 140.464904 \r\nL 110.101127 79.75672 \r\nL 110.213314 134.11698 \r\nL 110.325501 104.833727 \r\nL 110.549875 130.11821 \r\nL 110.662063 135.078177 \r\nL 110.886437 81.272034 \r\nL 111.110811 110.040766 \r\nL 111.222998 126.707828 \r\nL 111.335185 101.09708 \r\nL 111.447372 113.169574 \r\nL 111.55956 144.675781 \r\nL 111.783934 102.743687 \r\nL 111.896121 96.254513 \r\nL 112.232682 147.087223 \r\nL 112.344869 102.92546 \r\nL 112.457056 121.99447 \r\nL 112.569244 116.512573 \r\nL 112.793618 130.260155 \r\nL 112.905805 93.837282 \r\nL 113.017992 128.349572 \r\nL 113.130179 105.435082 \r\nL 113.242366 106.882087 \r\nL 113.354553 118.885576 \r\nL 113.46674 113.115158 \r\nL 113.578928 48.13427 \r\nL 113.691115 128.994923 \r\nL 113.803302 90.90854 \r\nL 113.915489 94.953622 \r\nL 114.027676 92.068181 \r\nL 114.139863 118.793185 \r\nL 114.25205 105.447818 \r\nL 114.588612 137.639668 \r\nL 114.700799 82.003988 \r\nL 114.812986 130.748973 \r\nL 114.925173 91.059747 \r\nL 115.03736 106.865878 \r\nL 115.149547 141.957757 \r\nL 115.261734 139.222134 \r\nL 115.486108 111.723727 \r\nL 115.598296 108.101701 \r\nL 115.710483 91.142413 \r\nL 115.82267 94.875819 \r\nL 115.934857 73.568571 \r\nL 116.159231 117.328119 \r\nL 116.271418 125.256887 \r\nL 116.383605 110.002327 \r\nL 116.495792 115.909828 \r\nL 116.60798 89.322601 \r\nL 116.720167 120.935094 \r\nL 116.832354 80.601211 \r\nL 116.944541 138.79051 \r\nL 117.056728 78.390761 \r\nL 117.168915 127.112128 \r\nL 117.393289 97.295365 \r\nL 117.505476 117.501556 \r\nL 117.729851 102.715205 \r\nL 117.842038 101.332343 \r\nL 117.954225 69.213433 \r\nL 118.066412 78.591521 \r\nL 118.178599 111.174472 \r\nL 118.402973 101.754936 \r\nL 118.627348 116.7351 \r\nL 118.851722 70.314027 \r\nL 118.963909 122.432809 \r\nL 119.188283 109.650822 \r\nL 119.30047 71.748759 \r\nL 119.412657 123.80803 \r\nL 119.524844 92.467618 \r\nL 119.637032 100.791655 \r\nL 119.861406 122.736381 \r\nL 120.08578 62.823366 \r\nL 120.197967 117.092393 \r\nL 120.310154 86.131504 \r\nL 120.422341 112.010396 \r\nL 120.534529 75.903831 \r\nL 120.758903 152.477193 \r\nL 120.983277 140.233115 \r\nL 121.095464 91.628685 \r\nL 121.207651 128.705245 \r\nL 121.319838 70.845221 \r\nL 121.544213 106.394426 \r\nL 121.6564 100.729366 \r\nL 121.768587 89.07414 \r\nL 121.880774 117.801191 \r\nL 122.105148 107.500346 \r\nL 122.217335 82.226746 \r\nL 122.441709 128.749935 \r\nL 122.553897 116.137218 \r\nL 122.666084 81.609182 \r\nL 122.778271 110.853996 \r\nL 122.890458 84.433028 \r\nL 123.002645 97.538038 \r\nL 123.114832 87.050325 \r\nL 123.227019 97.696886 \r\nL 123.339206 120.30132 \r\nL 123.451393 97.917792 \r\nL 123.563581 111.564879 \r\nL 123.675768 156.732529 \r\nL 123.900142 86.555718 \r\nL 124.012329 151.416195 \r\nL 124.124516 107.522807 \r\nL 124.34889 108.03015 \r\nL 124.461077 93.579095 \r\nL 124.573265 130.276364 \r\nL 124.685452 87.23094 \r\nL 124.797639 106.145965 \r\nL 124.909826 93.850249 \r\nL 125.022013 143.091926 \r\nL 125.246387 87.330278 \r\nL 125.358574 87.687572 \r\nL 125.582949 94.913562 \r\nL 125.695136 101.226752 \r\nL 125.807323 133.975035 \r\nL 125.91951 118.819582 \r\nL 126.143884 83.824958 \r\nL 126.256071 144.053817 \r\nL 126.368258 129.955888 \r\nL 126.480445 141.444393 \r\nL 127.041381 85.46045 \r\nL 127.153568 120.519448 \r\nL 127.265755 106.651687 \r\nL 127.377942 132.85939 \r\nL 127.490129 73.428942 \r\nL 127.714504 119.486469 \r\nL 127.938878 101.167474 \r\nL 128.051065 134.666235 \r\nL 128.275439 67.583267 \r\nL 128.387626 109.946753 \r\nL 128.499814 71.347933 \r\nL 128.724188 106.984898 \r\nL 128.836375 96.234368 \r\nL 128.948562 106.871204 \r\nL 129.060749 148.498105 \r\nL 129.285123 90.025842 \r\nL 129.39731 99.408098 \r\nL 129.509498 97.74204 \r\nL 129.621685 71.551935 \r\nL 129.733872 123.585272 \r\nL 129.846059 92.673241 \r\nL 129.958246 121.990071 \r\nL 130.070433 121.113393 \r\nL 130.18262 129.230649 \r\nL 130.294807 128.457478 \r\nL 130.406994 123.06033 \r\nL 130.519182 144.51948 \r\nL 130.743556 90.44033 \r\nL 130.855743 146.686628 \r\nL 130.96793 91.814394 \r\nL 131.080117 109.962962 \r\nL 131.192304 64.508644 \r\nL 131.304491 121.036747 \r\nL 131.416678 78.426884 \r\nL 131.528866 151.984669 \r\nL 131.75324 88.666598 \r\nL 131.977614 130.177952 \r\nL 132.089801 105.00068 \r\nL 132.201988 106.658865 \r\nL 132.314175 96.107011 \r\nL 132.426362 105.709942 \r\nL 132.53855 102.278951 \r\nL 132.650737 126.665684 \r\nL 132.875111 97.206679 \r\nL 132.987298 109.804808 \r\nL 133.099485 68.958257 \r\nL 133.323859 82.44881 \r\nL 133.436046 63.31589 \r\nL 133.548234 112.29197 \r\nL 133.660421 93.015947 \r\nL 133.772608 98.57889 \r\nL 133.884795 85.769348 \r\nL 133.996982 90.521607 \r\nL 134.109169 149.962013 \r\nL 134.333543 92.68042 \r\nL 134.44573 94.67529 \r\nL 134.670105 128.432238 \r\nL 134.782292 117.126664 \r\nL 134.894479 84.533524 \r\nL 135.118853 120.779487 \r\nL 135.343227 99.05914 \r\nL 135.455414 127.023209 \r\nL 135.567602 120.299699 \r\nL 135.679789 81.653641 \r\nL 135.904163 132.906397 \r\nL 136.01635 128.636009 \r\nL 136.128537 87.257569 \r\nL 136.240724 154.02284 \r\nL 136.352911 100.318583 \r\nL 136.465098 126.319969 \r\nL 136.689473 114.949558 \r\nL 136.80166 138.723358 \r\nL 137.138221 73.099898 \r\nL 137.250408 111.35393 \r\nL 137.362595 106.648908 \r\nL 137.474783 93.115517 \r\nL 137.699157 114.582771 \r\nL 137.811344 118.534072 \r\nL 137.923531 118.136024 \r\nL 138.372279 87.20709 \r\nL 138.484467 158.485421 \r\nL 138.596654 146.182527 \r\nL 138.708841 75.644486 \r\nL 138.821028 75.073696 \r\nL 138.933215 94.752167 \r\nL 139.045402 171.790033 \r\nL 139.269776 110.70742 \r\nL 139.381963 128.568626 \r\nL 139.494151 118.527125 \r\nL 139.606338 84.430481 \r\nL 139.718525 94.066293 \r\nL 139.830712 75.18276 \r\nL 139.942899 90.79253 \r\nL 140.055086 71.77122 \r\nL 140.167273 105.190789 \r\nL 140.391647 78.750602 \r\nL 140.503835 79.768761 \r\nL 140.616022 79.481166 \r\nL 140.728209 148.020169 \r\nL 140.840396 110.210034 \r\nL 141.06477 139.537284 \r\nL 141.176957 126.141901 \r\nL 141.289144 131.83961 \r\nL 141.401331 127.178585 \r\nL 141.513519 128.171967 \r\nL 141.625706 102.46767 \r\nL 141.85008 137.382871 \r\nL 141.962267 135.476919 \r\nL 142.074454 95.880779 \r\nL 142.186641 136.163488 \r\nL 142.298828 129.362174 \r\nL 142.411015 93.826167 \r\nL 142.523203 116.407214 \r\nL 142.63539 114.554289 \r\nL 142.859764 144.348127 \r\nL 142.971951 116.722132 \r\nL 143.084138 132.200377 \r\nL 143.196325 123.003136 \r\nL 143.420699 71.931458 \r\nL 143.757261 148.447625 \r\nL 143.869448 105.786356 \r\nL 143.981635 105.673587 \r\nL 144.093822 82.663232 \r\nL 144.206009 90.695738 \r\nL 144.318196 140.127293 \r\nL 144.542571 95.55683 \r\nL 144.654758 116.787895 \r\nL 144.766945 89.152406 \r\nL 144.879132 156.591047 \r\nL 144.991319 108.591909 \r\nL 145.215693 154.863627 \r\nL 145.32788 84.358235 \r\nL 145.552255 107.750891 \r\nL 145.664442 92.399077 \r\nL 145.888816 148.587486 \r\nL 146.001003 105.255162 \r\nL 146.11319 124.954704 \r\nL 146.225377 99.79781 \r\nL 146.337564 112.856971 \r\nL 146.561939 97.496126 \r\nL 146.674126 69.085382 \r\nL 146.786313 128.819171 \r\nL 146.8985 126.237071 \r\nL 147.010687 108.810499 \r\nL 147.122874 123.284478 \r\nL 147.235061 109.05734 \r\nL 147.347248 123.181204 \r\nL 147.459436 89.324222 \r\nL 147.571623 116.438243 \r\nL 147.68381 114.465371 \r\nL 147.795997 138.41446 \r\nL 147.908184 108.924657 \r\nL 148.020371 132.427304 \r\nL 148.132558 121.633703 \r\nL 148.244745 71.780482 \r\nL 148.356932 141.710916 \r\nL 148.581307 115.662061 \r\nL 148.693494 115.151245 \r\nL 148.917868 77.539786 \r\nL 149.142242 129.998726 \r\nL 149.254429 97.622556 \r\nL 149.366616 103.454569 \r\nL 149.478804 137.539635 \r\nL 149.590991 131.758102 \r\nL 149.815365 89.216548 \r\nL 149.927552 123.014019 \r\nL 150.151926 107.015232 \r\nL 150.264113 146.614614 \r\nL 150.488488 107.088173 \r\nL 150.600675 105.670345 \r\nL 150.712862 132.741296 \r\nL 150.825049 102.928239 \r\nL 151.049423 140.171057 \r\nL 151.16161 146.629434 \r\nL 151.273797 110.648836 \r\nL 151.385984 140.137018 \r\nL 151.498172 125.806374 \r\nL 151.610359 144.917991 \r\nL 151.722546 83.325719 \r\nL 152.059107 147.702935 \r\nL 152.395668 105.709942 \r\nL 152.507856 152.523041 \r\nL 152.844417 109.377816 \r\nL 152.956604 109.144637 \r\nL 153.068791 124.759501 \r\nL 153.180978 87.340467 \r\nL 153.293165 103.785234 \r\nL 153.405352 140.785611 \r\nL 153.629727 117.427226 \r\nL 153.741914 120.725765 \r\nL 153.854101 120.202677 \r\nL 153.966288 131.801866 \r\nL 154.078475 124.309584 \r\nL 154.190662 162.445058 \r\nL 154.415037 97.459771 \r\nL 154.639411 122.541873 \r\nL 154.863785 105.377656 \r\nL 155.088159 170.026953 \r\nL 155.200346 126.561715 \r\nL 155.312533 158.000307 \r\nL 155.424721 117.902151 \r\nL 155.536908 169.583057 \r\nL 155.649095 94.43447 \r\nL 155.761282 143.40754 \r\nL 155.873469 69.45078 \r\nL 156.21003 167.42216 \r\nL 156.322217 83.711726 \r\nL 156.434405 133.870835 \r\nL 156.546592 123.945113 \r\nL 156.658779 131.797235 \r\nL 156.883153 102.551031 \r\nL 156.99534 106.509279 \r\nL 157.107527 155.810929 \r\nL 157.331901 95.112934 \r\nL 157.556276 139.721141 \r\nL 157.668463 125.835087 \r\nL 157.892837 131.562436 \r\nL 158.117211 150.124566 \r\nL 158.229398 76.444287 \r\nL 158.453773 139.583827 \r\nL 158.56596 94.512968 \r\nL 158.678147 103.785234 \r\nL 159.014708 82.53356 \r\nL 159.351269 145.624242 \r\nL 159.463457 149.518579 \r\nL 159.575644 88.243079 \r\nL 159.687831 120.249451 \r\nL 159.800018 111.964547 \r\nL 159.912205 123.053615 \r\nL 160.024392 109.623267 \r\nL 160.248766 137.817736 \r\nL 160.473141 122.966318 \r\nL 160.585328 86.390849 \r\nL 160.921889 149.043655 \r\nL 161.034076 68.412707 \r\nL 161.146263 136.734277 \r\nL 161.25845 104.0374 \r\nL 161.370637 121.323184 \r\nL 161.482825 105.156055 \r\nL 161.595012 108.80309 \r\nL 161.707199 98.459869 \r\nL 162.04376 138.237319 \r\nL 162.155947 77.817887 \r\nL 162.268134 127.373325 \r\nL 162.380321 118.086239 \r\nL 162.492509 141.039399 \r\nL 162.604696 98.566154 \r\nL 162.716883 109.908083 \r\nL 162.82907 63.200111 \r\nL 162.941257 107.412585 \r\nL 163.053444 96.147997 \r\nL 163.165631 133.447547 \r\nL 163.502193 69.102749 \r\nL 163.61438 88.277118 \r\nL 163.726567 135.099248 \r\nL 163.838754 103.16188 \r\nL 163.950941 127.472663 \r\nL 164.063128 114.350981 \r\nL 164.287502 69.222001 \r\nL 164.39969 117.493914 \r\nL 164.511877 104.671868 \r\nL 164.736251 127.22397 \r\nL 164.960625 109.849499 \r\nL 165.184999 187.694807 \r\nL 165.297186 117.715978 \r\nL 165.409374 165.365464 \r\nL 165.521561 84.86882 \r\nL 165.745935 103.485598 \r\nL 165.858122 96.82484 \r\nL 166.082496 139.129742 \r\nL 166.194683 102.934491 \r\nL 166.30687 110.060217 \r\nL 166.419058 88.209966 \r\nL 166.867806 141.446709 \r\nL 167.09218 127.435614 \r\nL 167.316554 95.374825 \r\nL 167.540929 146.816532 \r\nL 167.653116 96.063478 \r\nL 167.765303 118.818888 \r\nL 167.87749 97.304628 \r\nL 168.101864 139.039666 \r\nL 168.214051 100.023347 \r\nL 168.326238 155.269316 \r\nL 168.550613 105.410306 \r\nL 168.6628 102.168035 \r\nL 168.774987 103.45619 \r\nL 168.887174 98.394801 \r\nL 168.999361 107.118044 \r\nL 169.111548 146.326093 \r\nL 169.223735 133.981751 \r\nL 169.335922 95.324809 \r\nL 169.44811 113.535666 \r\nL 169.560297 102.448914 \r\nL 169.672484 127.054238 \r\nL 169.784671 49.023452 \r\nL 170.009045 126.441305 \r\nL 170.121232 107.068028 \r\nL 170.345606 135.139076 \r\nL 170.569981 92.812639 \r\nL 170.682168 152.88705 \r\nL 170.794355 142.509327 \r\nL 171.018729 65.170667 \r\nL 171.130916 130.231673 \r\nL 171.243103 129.282055 \r\nL 171.35529 126.736309 \r\nL 171.467478 89.308708 \r\nL 171.579665 125.042928 \r\nL 171.691852 105.718741 \r\nL 171.804039 106.249239 \r\nL 171.916226 123.786032 \r\nL 172.028413 89.222105 \r\nL 172.252787 121.678394 \r\nL 172.477162 89.858426 \r\nL 172.589349 104.183745 \r\nL 172.701536 87.67831 \r\nL 172.813723 119.260005 \r\nL 172.92591 113.221674 \r\nL 173.038097 118.784154 \r\nL 173.150284 117.368873 \r\nL 173.262471 103.673391 \r\nL 173.374659 104.550995 \r\nL 173.599033 135.660313 \r\nL 173.71122 136.504804 \r\nL 173.823407 103.501807 \r\nL 173.935594 137.14645 \r\nL 174.047781 125.119342 \r\nL 174.159968 97.2604 \r\nL 174.272155 147.787917 \r\nL 174.49653 110.831767 \r\nL 174.608717 103.308225 \r\nL 174.720904 128.720759 \r\nL 174.833091 121.028643 \r\nL 174.945278 122.978127 \r\nL 175.057465 111.246487 \r\nL 175.169652 114.225014 \r\nL 175.281839 107.470938 \r\nL 175.394027 110.32535 \r\nL 175.506214 125.734591 \r\nL 175.618401 166.815015 \r\nL 175.730588 49.587064 \r\nL 175.954962 119.626561 \r\nL 176.067149 109.527865 \r\nL 176.179336 109.870339 \r\nL 176.291523 90.923823 \r\nL 176.515898 134.305468 \r\nL 176.628085 77.920236 \r\nL 176.852459 133.088401 \r\nL 176.964646 110.088003 \r\nL 177.076833 115.894545 \r\nL 177.18902 149.373393 \r\nL 177.301207 121.011276 \r\nL 177.413395 127.927442 \r\nL 177.637769 104.95599 \r\nL 177.749956 110.201467 \r\nL 177.862143 123.094138 \r\nL 178.198704 108.786186 \r\nL 178.310891 127.64911 \r\nL 178.423079 111.284462 \r\nL 178.535266 117.904235 \r\nL 178.647453 102.028637 \r\nL 178.75964 127.609514 \r\nL 178.871827 96.769035 \r\nL 178.984014 118.019087 \r\nL 179.096201 172.119077 \r\nL 179.320575 114.255348 \r\nL 179.54495 154.535741 \r\nL 179.657137 120.37264 \r\nL 179.769324 123.952291 \r\nL 179.881511 131.991975 \r\nL 180.105885 87.645892 \r\nL 180.218072 162.644892 \r\nL 180.33026 137.25644 \r\nL 180.442447 163.167055 \r\nL 180.554634 157.233851 \r\nL 180.666821 82.168394 \r\nL 180.779008 81.664292 \r\nL 180.891195 150.642561 \r\nL 181.003382 96.874856 \r\nL 181.115569 114.000403 \r\nL 181.227756 97.256 \r\nL 181.339944 177.253175 \r\nL 181.564318 91.334143 \r\nL 181.676505 137.949029 \r\nL 181.788692 119.979223 \r\nL 181.900879 126.229198 \r\nL 182.013066 111.204575 \r\nL 182.125253 123.670948 \r\nL 182.23744 158.810991 \r\nL 182.349628 93.986868 \r\nL 182.686189 148.490695 \r\nL 182.910563 88.999578 \r\nL 183.02275 134.940631 \r\nL 183.134937 109.447283 \r\nL 183.247124 118.75683 \r\nL 183.359312 154.904381 \r\nL 183.471499 113.669738 \r\nL 183.583686 131.246591 \r\nL 183.695873 167.079223 \r\nL 183.80806 86.476062 \r\nL 183.920247 159.761767 \r\nL 184.032434 90.13699 \r\nL 184.144621 132.187178 \r\nL 184.256808 115.639137 \r\nL 184.368996 78.728835 \r\nL 184.705557 136.584691 \r\nL 184.817744 122.396918 \r\nL 184.929931 131.503388 \r\nL 185.042118 120.068605 \r\nL 185.154305 131.210005 \r\nL 185.266492 126.331778 \r\nL 185.37868 109.542453 \r\nL 185.490867 132.488435 \r\nL 185.603054 112.942879 \r\nL 185.715241 150.467272 \r\nL 185.827428 119.662452 \r\nL 185.939615 160.440694 \r\nL 186.051802 138.580256 \r\nL 186.163989 158.106592 \r\nL 186.388364 87.169114 \r\nL 186.612738 148.28924 \r\nL 186.724925 98.721529 \r\nL 186.949299 132.110996 \r\nL 187.061486 113.026703 \r\nL 187.28586 140.643666 \r\nL 187.398048 118.259444 \r\nL 187.510235 131.204216 \r\nL 187.622422 124.803497 \r\nL 187.734609 126.155099 \r\nL 187.846796 118.693383 \r\nL 187.958983 124.328109 \r\nL 188.183357 87.082743 \r\nL 188.407732 128.627673 \r\nL 188.519919 133.222704 \r\nL 188.632106 144.814021 \r\nL 188.744293 90.193953 \r\nL 188.85648 127.313583 \r\nL 188.968667 86.135904 \r\nL 189.080854 105.274381 \r\nL 189.193041 165.810055 \r\nL 189.305229 159.569343 \r\nL 189.417416 171.276438 \r\nL 189.64179 121.782595 \r\nL 189.753977 122.668072 \r\nL 189.866164 122.954277 \r\nL 189.978351 115.973275 \r\nL 190.090538 120.38607 \r\nL 190.314913 179.570141 \r\nL 190.4271 105.933626 \r\nL 190.539287 117.147041 \r\nL 190.651474 116.37989 \r\nL 190.763661 102.104356 \r\nL 190.875848 129.006038 \r\nL 190.988035 70.003045 \r\nL 191.324597 145.506842 \r\nL 191.436784 124.877827 \r\nL 191.548971 148.194532 \r\nL 191.661158 127.640311 \r\nL 191.773345 127.539815 \r\nL 191.885532 102.469754 \r\nL 191.997719 122.199167 \r\nL 192.109906 115.293884 \r\nL 192.222093 93.606188 \r\nL 192.334281 135.954159 \r\nL 192.446468 126.76016 \r\nL 192.670842 103.974416 \r\nL 193.007403 159.42925 \r\nL 193.11959 162.325111 \r\nL 193.231777 116.7307 \r\nL 193.343965 154.114537 \r\nL 193.568339 93.400333 \r\nL 193.680526 94.858683 \r\nL 193.792713 130.802926 \r\nL 193.9049 116.328484 \r\nL 194.129274 136.480027 \r\nL 194.353649 91.457563 \r\nL 194.465836 119.530464 \r\nL 194.578023 108.48354 \r\nL 194.69021 84.426313 \r\nL 194.802397 108.791975 \r\nL 194.914584 97.390304 \r\nL 195.026771 69.90417 \r\nL 195.138958 148.583781 \r\nL 195.251145 97.990038 \r\nL 195.363333 140.538308 \r\nL 195.47552 81.047191 \r\nL 195.812081 152.284305 \r\nL 195.924268 102.367869 \r\nL 196.036455 106.326348 \r\nL 196.148642 129.873685 \r\nL 196.260829 104.977988 \r\nL 196.485204 127.070447 \r\nL 196.709578 112.77963 \r\nL 196.821765 140.903011 \r\nL 196.933952 118.376612 \r\nL 197.046139 136.8357 \r\nL 197.270513 83.790687 \r\nL 197.494888 139.443503 \r\nL 197.607075 91.802816 \r\nL 197.719262 135.755251 \r\nL 197.831449 73.210814 \r\nL 197.943636 167.255207 \r\nL 198.055823 90.467423 \r\nL 198.16801 127.65212 \r\nL 198.280198 105.19241 \r\nL 198.504572 136.655085 \r\nL 198.616759 122.412895 \r\nL 198.728946 78.948352 \r\nL 198.95332 149.820994 \r\nL 199.177694 88.664051 \r\nL 199.402069 160.968414 \r\nL 199.626443 86.887077 \r\nL 199.850817 160.82809 \r\nL 199.963004 118.022561 \r\nL 200.075191 140.770329 \r\nL 200.187378 117.753027 \r\nL 200.299566 147.636941 \r\nL 200.411753 117.164176 \r\nL 200.636127 137.116579 \r\nL 200.748314 119.969961 \r\nL 200.860501 130.077919 \r\nL 201.084875 111.999744 \r\nL 201.197062 135.859684 \r\nL 201.30925 122.686828 \r\nL 201.421437 148.959136 \r\nL 201.533624 106.928167 \r\nL 201.645811 144.346506 \r\nL 201.757998 119.103704 \r\nL 201.870185 120.361757 \r\nL 201.982372 102.374816 \r\nL 202.206746 155.583308 \r\nL 202.318934 122.845213 \r\nL 202.431121 163.987927 \r\nL 202.543308 122.836877 \r\nL 202.655495 179.583803 \r\nL 202.767682 133.365576 \r\nL 202.879869 160.612279 \r\nL 203.104243 104.343056 \r\nL 203.328618 163.135795 \r\nL 203.440805 158.353433 \r\nL 203.552992 138.511714 \r\nL 203.665179 80.076038 \r\nL 203.777366 147.906243 \r\nL 204.00174 108.62919 \r\nL 204.113927 81.673092 \r\nL 204.226114 145.937076 \r\nL 204.450489 107.902793 \r\nL 204.562676 104.808487 \r\nL 204.674863 111.375928 \r\nL 204.78705 141.172776 \r\nL 204.899237 108.772524 \r\nL 205.011424 135.851348 \r\nL 205.235798 99.946238 \r\nL 205.460173 132.824425 \r\nL 205.684547 125.935583 \r\nL 205.908921 184.636161 \r\nL 206.021108 128.442195 \r\nL 206.133295 150.434622 \r\nL 206.245483 106.474545 \r\nL 206.469857 134.436993 \r\nL 206.582044 151.288607 \r\nL 206.694231 125.197145 \r\nL 206.806418 146.092914 \r\nL 207.030792 116.282404 \r\nL 207.142979 130.978447 \r\nL 207.367354 103.379081 \r\nL 207.479541 107.817812 \r\nL 207.591728 101.980473 \r\nL 207.703915 122.210745 \r\nL 207.816102 96.187593 \r\nL 207.928289 130.074677 \r\nL 208.040476 127.063269 \r\nL 208.152663 132.141098 \r\nL 208.264851 88.137257 \r\nL 208.377038 136.596037 \r\nL 208.489225 84.901933 \r\nL 208.713599 157.13104 \r\nL 208.825786 129.238754 \r\nL 208.937973 139.408074 \r\nL 209.162347 126.18636 \r\nL 209.274535 96.455042 \r\nL 209.386722 165.319384 \r\nL 209.498909 97.61862 \r\nL 209.611096 107.966008 \r\nL 209.723283 107.137726 \r\nL 209.83547 61.66882 \r\nL 209.947657 91.207249 \r\nL 210.059844 182.249496 \r\nL 210.284219 132.798954 \r\nL 210.396406 108.692405 \r\nL 210.62078 167.413129 \r\nL 210.732967 99.334926 \r\nL 210.845154 111.331932 \r\nL 210.957341 88.044634 \r\nL 211.293903 152.055526 \r\nL 211.40609 119.659211 \r\nL 211.630464 149.963402 \r\nL 211.742651 134.186679 \r\nL 211.854838 158.547942 \r\nL 212.079212 110.037061 \r\nL 212.191399 147.081898 \r\nL 212.303587 124.355664 \r\nL 212.415774 164.659676 \r\nL 212.640148 87.762365 \r\nL 212.752335 126.536707 \r\nL 212.864522 101.552091 \r\nL 212.976709 135.000605 \r\nL 213.088896 120.327023 \r\nL 213.201083 162.116478 \r\nL 213.425458 97.907372 \r\nL 213.537645 94.574562 \r\nL 213.649832 139.99762 \r\nL 213.762019 106.615332 \r\nL 213.874206 136.569408 \r\nL 214.09858 87.430543 \r\nL 214.210767 144.839261 \r\nL 214.322955 79.530256 \r\nL 214.435142 134.014863 \r\nL 214.547329 132.727402 \r\nL 214.659516 149.07422 \r\nL 214.88389 115.840361 \r\nL 214.996077 123.326853 \r\nL 215.220452 157.677516 \r\nL 215.332639 169.563143 \r\nL 215.557013 81.646231 \r\nL 215.6692 143.489048 \r\nL 215.781387 118.238372 \r\nL 215.893574 165.99669 \r\nL 216.005761 93.376251 \r\nL 216.230136 151.860323 \r\nL 216.342323 110.09634 \r\nL 216.45451 165.559278 \r\nL 216.566697 129.068096 \r\nL 216.678884 132.004711 \r\nL 216.791071 97.942801 \r\nL 216.903258 153.915629 \r\nL 217.015445 116.772149 \r\nL 217.127632 150.074781 \r\nL 217.23982 145.619147 \r\nL 217.352007 169.447827 \r\nL 217.576381 114.613105 \r\nL 217.688568 145.793279 \r\nL 217.800755 127.712788 \r\nL 217.912942 137.562328 \r\nL 218.025129 165.592854 \r\nL 218.137316 153.692408 \r\nL 218.249504 158.007717 \r\nL 218.473878 124.213025 \r\nL 218.698252 112.147015 \r\nL 218.810439 104.508157 \r\nL 218.922626 134.599547 \r\nL 219.034813 126.191454 \r\nL 219.147 151.227012 \r\nL 219.259188 107.996806 \r\nL 219.371375 146.429599 \r\nL 219.483562 78.971508 \r\nL 219.93231 152.115036 \r\nL 220.044497 111.377085 \r\nL 220.156684 129.078747 \r\nL 220.268872 119.976908 \r\nL 220.381059 143.377205 \r\nL 220.493246 118.104532 \r\nL 220.605433 150.031943 \r\nL 220.71762 147.797874 \r\nL 220.829807 103.481198 \r\nL 220.941994 147.112926 \r\nL 221.054181 81.729823 \r\nL 221.278556 112.605036 \r\nL 221.390743 92.526897 \r\nL 221.615117 150.632141 \r\nL 221.727304 124.492515 \r\nL 221.951678 139.068842 \r\nL 222.063865 127.871637 \r\nL 222.28824 94.569931 \r\nL 222.400427 119.768274 \r\nL 222.512614 90.253 \r\nL 222.736988 138.397325 \r\nL 222.849175 99.210116 \r\nL 222.961362 148.004887 \r\nL 223.185737 100.432741 \r\nL 223.297924 123.336116 \r\nL 223.410111 96.843596 \r\nL 223.522298 126.372764 \r\nL 223.634485 113.001 \r\nL 223.746672 162.970694 \r\nL 223.858859 102.43201 \r\nL 224.083233 142.49196 \r\nL 224.307608 93.732155 \r\nL 224.419795 170.275414 \r\nL 224.756356 111.35254 \r\nL 224.868543 169.754178 \r\nL 224.98073 138.45452 \r\nL 225.092917 142.899965 \r\nL 225.205105 142.619085 \r\nL 225.429479 160.665074 \r\nL 225.541666 134.295511 \r\nL 225.653853 52.985636 \r\nL 225.878227 157.705535 \r\nL 226.214789 94.899901 \r\nL 226.439163 160.058161 \r\nL 226.55135 122.786861 \r\nL 226.663537 129.594426 \r\nL 226.775724 105.250068 \r\nL 226.887911 139.022762 \r\nL 227.000098 128.571636 \r\nL 227.112285 98.833372 \r\nL 227.33666 166.619581 \r\nL 227.448847 121.556595 \r\nL 227.561034 144.214287 \r\nL 227.673221 130.597534 \r\nL 227.785408 78.052918 \r\nL 227.897595 152.299356 \r\nL 228.009782 103.347126 \r\nL 228.121969 144.148987 \r\nL 228.346344 106.663033 \r\nL 228.458531 96.503438 \r\nL 228.907279 113.337221 \r\nL 229.019466 174.294099 \r\nL 229.243841 94.561363 \r\nL 229.468215 139.856602 \r\nL 229.580402 123.60287 \r\nL 229.916963 172.618315 \r\nL 230.02915 123.90899 \r\nL 230.141337 126.962078 \r\nL 230.253525 109.854593 \r\nL 230.477899 131.911161 \r\nL 230.590086 125.515537 \r\nL 230.81446 102.292381 \r\nL 230.926647 157.584198 \r\nL 231.151021 127.544214 \r\nL 231.263209 110.146588 \r\nL 231.375396 177.182781 \r\nL 231.711957 130.86892 \r\nL 231.824144 134.618998 \r\nL 231.936331 105.442724 \r\nL 232.048518 117.909329 \r\nL 232.160706 142.858979 \r\nL 232.272893 120.60003 \r\nL 232.497267 146.395329 \r\nL 232.609454 92.513235 \r\nL 232.721641 188.814157 \r\nL 232.946015 131.044441 \r\nL 233.058202 155.127371 \r\nL 233.17039 111.103153 \r\nL 233.282577 161.580885 \r\nL 233.506951 109.614468 \r\nL 233.619138 169.622421 \r\nL 233.731325 123.858973 \r\nL 233.843512 125.217291 \r\nL 233.955699 171.22758 \r\nL 234.404448 107.670541 \r\nL 234.628822 131.302859 \r\nL 234.741009 104.559563 \r\nL 234.853196 119.793514 \r\nL 234.965383 151.811927 \r\nL 235.189758 135.365308 \r\nL 235.301945 131.361675 \r\nL 235.526319 142.006615 \r\nL 235.638506 134.848471 \r\nL 235.750693 166.003637 \r\nL 235.86288 106.877687 \r\nL 235.975067 147.800421 \r\nL 236.087254 142.693415 \r\nL 236.199442 103.351758 \r\nL 236.311629 178.105076 \r\nL 236.64819 114.079596 \r\nL 236.872564 196.434259 \r\nL 237.096938 126.748814 \r\nL 237.209126 104.601706 \r\nL 237.545687 155.169746 \r\nL 237.770061 108.683143 \r\nL 237.882248 108.628264 \r\nL 237.994435 103.717156 \r\nL 238.106622 164.955375 \r\nL 238.21881 154.340769 \r\nL 238.330997 113.227 \r\nL 238.443184 113.03666 \r\nL 238.555371 145.329469 \r\nL 238.667558 133.278741 \r\nL 238.779745 150.783811 \r\nL 239.004119 84.442522 \r\nL 239.116306 120.311509 \r\nL 239.228494 118.277506 \r\nL 239.340681 126.112493 \r\nL 239.452868 167.824376 \r\nL 239.565055 135.572552 \r\nL 239.677242 147.889108 \r\nL 239.901616 101.53565 \r\nL 240.013803 155.298955 \r\nL 240.12599 141.678498 \r\nL 240.350365 97.078164 \r\nL 240.462552 101.0466 \r\nL 240.574739 132.90547 \r\nL 240.686926 122.50436 \r\nL 240.799113 142.464868 \r\nL 240.9113 97.161525 \r\nL 241.023487 147.246998 \r\nL 241.135675 109.938417 \r\nL 241.360049 148.997575 \r\nL 241.472236 151.371968 \r\nL 241.69661 134.109802 \r\nL 241.808797 132.156613 \r\nL 241.920984 105.755095 \r\nL 242.145359 162.735895 \r\nL 242.257546 92.787168 \r\nL 242.48192 132.448144 \r\nL 242.706294 110.892203 \r\nL 242.818481 156.012384 \r\nL 242.930668 153.764654 \r\nL 243.042855 113.552107 \r\nL 243.155043 136.758822 \r\nL 243.26723 115.339964 \r\nL 243.379417 149.239321 \r\nL 243.603791 96.831555 \r\nL 243.940352 147.084676 \r\nL 244.052539 162.184324 \r\nL 244.389101 86.89194 \r\nL 244.725662 197.640906 \r\nL 244.950036 109.839542 \r\nL 245.174411 140.212738 \r\nL 245.286598 144.336318 \r\nL 245.398785 117.186869 \r\nL 245.623159 155.019696 \r\nL 245.735346 115.184357 \r\nL 245.847533 146.180675 \r\nL 245.95972 146.30178 \r\nL 246.071907 127.211697 \r\nL 246.184095 129.564555 \r\nL 246.408469 164.520973 \r\nL 246.520656 157.00623 \r\nL 246.74503 81.514938 \r\nL 246.857217 151.204551 \r\nL 246.969404 111.341194 \r\nL 247.081591 117.700695 \r\nL 247.193779 115.555545 \r\nL 247.305966 118.932814 \r\nL 247.418153 129.277887 \r\nL 247.53034 86.958628 \r\nL 247.866901 169.724075 \r\nL 247.979088 118.985146 \r\nL 248.091275 127.287648 \r\nL 248.203463 122.219313 \r\nL 248.31565 156.578311 \r\nL 248.427837 152.349604 \r\nL 248.540024 152.500811 \r\nL 248.652211 112.189853 \r\nL 248.764398 156.789955 \r\nL 248.876585 145.92133 \r\nL 249.10096 104.744809 \r\nL 249.213147 149.149013 \r\nL 249.325334 108.625022 \r\nL 249.437521 129.482584 \r\nL 249.549708 109.013112 \r\nL 249.661895 127.527774 \r\nL 249.886269 125.685732 \r\nL 249.998456 128.448447 \r\nL 250.110644 93.959545 \r\nL 250.335018 155.852841 \r\nL 250.447205 141.271651 \r\nL 250.559392 179.175104 \r\nL 250.783766 111.799678 \r\nL 250.895953 173.5332 \r\nL 251.00814 165.109361 \r\nL 251.120328 125.222617 \r\nL 251.344702 145.450342 \r\nL 251.456889 124.529101 \r\nL 251.569076 134.478674 \r\nL 251.681263 104.248118 \r\nL 251.79345 161.993521 \r\nL 251.905637 119.675188 \r\nL 252.017824 136.760907 \r\nL 252.130012 84.613643 \r\nL 252.354386 147.972932 \r\nL 252.466573 132.818868 \r\nL 252.57876 147.34842 \r\nL 252.803134 111.691772 \r\nL 252.915321 150.828733 \r\nL 253.027508 114.956505 \r\nL 253.139696 137.049891 \r\nL 253.36407 128.994229 \r\nL 253.476257 100.677961 \r\nL 253.588444 181.344568 \r\nL 253.700631 143.595796 \r\nL 253.812818 161.715188 \r\nL 253.925005 152.788175 \r\nL 254.14938 103.745637 \r\nL 254.373754 140.291467 \r\nL 254.485941 114.915519 \r\nL 254.598128 128.912489 \r\nL 254.710315 102.534359 \r\nL 254.822502 145.877103 \r\nL 254.934689 143.71528 \r\nL 255.046876 134.615524 \r\nL 255.159064 136.36008 \r\nL 255.271251 148.605779 \r\nL 255.383438 102.860161 \r\nL 255.495625 166.726792 \r\nL 255.607812 131.492968 \r\nL 255.832186 158.452771 \r\nL 255.944373 150.547622 \r\nL 256.05656 164.91439 \r\nL 256.168748 140.743931 \r\nL 256.280935 146.210314 \r\nL 256.393122 161.311583 \r\nL 256.505309 97.763807 \r\nL 256.729683 200.107922 \r\nL 256.954057 95.91065 \r\nL 257.178432 148.92857 \r\nL 257.402806 123.660528 \r\nL 257.514993 173.959035 \r\nL 257.739367 111.684826 \r\nL 257.851554 158.250853 \r\nL 257.963741 112.784493 \r\nL 258.188116 149.290032 \r\nL 258.41249 103.34018 \r\nL 258.636864 95.746939 \r\nL 258.749051 143.312369 \r\nL 258.861238 115.011152 \r\nL 258.973425 148.710906 \r\nL 259.085613 127.468958 \r\nL 259.1978 154.15506 \r\nL 259.309987 108.298525 \r\nL 259.534361 149.29721 \r\nL 259.646548 94.620642 \r\nL 259.758735 159.988462 \r\nL 259.870922 130.95066 \r\nL 259.983109 157.04189 \r\nL 260.095297 86.858364 \r\nL 260.207484 152.571668 \r\nL 260.319671 150.464724 \r\nL 260.544045 132.778114 \r\nL 260.656232 169.286894 \r\nL 260.768419 101.443027 \r\nL 260.880606 107.582317 \r\nL 260.992793 105.032867 \r\nL 261.104981 143.630066 \r\nL 261.217168 90.33775 \r\nL 261.441542 148.607631 \r\nL 261.553729 113.396269 \r\nL 261.778103 166.416042 \r\nL 261.89029 125.494928 \r\nL 262.114665 140.790011 \r\nL 262.226852 128.071934 \r\nL 262.339039 98.462879 \r\nL 262.563413 153.080169 \r\nL 262.6756 135.688563 \r\nL 262.787787 184.012113 \r\nL 263.012161 149.586889 \r\nL 263.124349 144.142041 \r\nL 263.236536 151.33214 \r\nL 263.46091 117.279029 \r\nL 263.573097 136.767159 \r\nL 263.685284 134.830873 \r\nL 263.797471 170.215672 \r\nL 263.909658 156.479899 \r\nL 264.021845 166.819647 \r\nL 264.134033 164.008304 \r\nL 264.358407 120.072078 \r\nL 264.470594 113.343705 \r\nL 264.694968 166.524411 \r\nL 264.807155 185.316478 \r\nL 265.031529 136.035205 \r\nL 265.143717 131.029158 \r\nL 265.255904 138.123161 \r\nL 265.480278 121.271547 \r\nL 265.704652 115.022962 \r\nL 265.929026 164.773139 \r\nL 266.041213 160.785252 \r\nL 266.153401 148.167672 \r\nL 266.265588 88.831699 \r\nL 266.377775 130.584336 \r\nL 266.489962 101.49999 \r\nL 266.714336 144.579685 \r\nL 266.93871 109.719364 \r\nL 267.050898 163.165666 \r\nL 267.163085 130.271501 \r\nL 267.275272 141.28786 \r\nL 267.387459 84.235046 \r\nL 267.499646 144.041081 \r\nL 267.611833 115.170927 \r\nL 267.836207 132.901302 \r\nL 267.948394 134.464549 \r\nL 268.060582 179.948738 \r\nL 268.172769 167.680347 \r\nL 268.397143 104.540343 \r\nL 268.50933 174.825755 \r\nL 268.733704 141.919781 \r\nL 268.845891 158.198984 \r\nL 268.958078 130.802463 \r\nL 269.070266 148.991786 \r\nL 269.182453 94.583593 \r\nL 269.29464 172.886459 \r\nL 269.519014 131.219499 \r\nL 269.631201 128.35073 \r\nL 269.743388 119.800461 \r\nL 269.855575 155.944538 \r\nL 269.967762 154.001306 \r\nL 270.07995 126.713385 \r\nL 270.192137 155.728032 \r\nL 270.304324 129.950099 \r\nL 270.528698 149.758936 \r\nL 270.753072 123.255071 \r\nL 270.865259 146.132511 \r\nL 270.977446 143.634003 \r\nL 271.089634 134.940631 \r\nL 271.314008 179.244571 \r\nL 271.650569 90.042746 \r\nL 271.874943 159.169906 \r\nL 271.98713 86.341759 \r\nL 272.099318 155.614568 \r\nL 272.211505 103.590957 \r\nL 272.660253 162.554122 \r\nL 272.77244 144.949482 \r\nL 272.884627 156.951351 \r\nL 272.996814 129.466838 \r\nL 273.109002 154.507028 \r\nL 273.221189 143.464734 \r\nL 273.333376 150.48788 \r\nL 273.445563 166.413726 \r\nL 273.669937 130.131409 \r\nL 273.782124 160.015554 \r\nL 274.006498 128.119404 \r\nL 274.118686 147.075645 \r\nL 274.230873 131.260021 \r\nL 274.34306 171.669392 \r\nL 274.455247 95.84373 \r\nL 274.567434 136.295244 \r\nL 274.679621 117.88571 \r\nL 274.791808 145.371844 \r\nL 274.903995 129.510371 \r\nL 275.016183 168.562119 \r\nL 275.12837 130.554002 \r\nL 275.240557 131.199121 \r\nL 275.352744 91.783597 \r\nL 275.464931 133.809472 \r\nL 275.577118 120.050543 \r\nL 275.913679 153.330946 \r\nL 276.025867 140.959743 \r\nL 276.138054 150.627741 \r\nL 276.250241 136.508045 \r\nL 276.362428 153.72552 \r\nL 276.474615 144.041776 \r\nL 276.586802 104.879807 \r\nL 276.698989 119.457061 \r\nL 276.811176 118.959906 \r\nL 277.035551 136.235965 \r\nL 277.147738 120.503238 \r\nL 277.372112 169.190335 \r\nL 277.484299 110.816021 \r\nL 277.596486 166.459574 \r\nL 277.82086 143.250775 \r\nL 278.269609 122.847992 \r\nL 278.381796 134.129948 \r\nL 278.60617 120.755405 \r\nL 278.718357 78.025131 \r\nL 278.830544 129.987611 \r\nL 278.942731 104.414376 \r\nL 279.167106 139.196199 \r\nL 279.279293 197.136111 \r\nL 279.39148 97.975682 \r\nL 279.728041 146.572007 \r\nL 279.840228 149.26896 \r\nL 280.064603 112.845856 \r\nL 280.17679 137.734375 \r\nL 280.288977 136.583996 \r\nL 280.401164 177.260121 \r\nL 280.513351 139.029941 \r\nL 280.625538 164.382038 \r\nL 280.737725 156.572523 \r\nL 280.962099 128.754798 \r\nL 281.074287 110.596041 \r\nL 281.298661 149.92589 \r\nL 281.410848 157.421413 \r\nL 281.635222 98.263508 \r\nL 281.859596 172.385137 \r\nL 282.083971 84.983441 \r\nL 282.196158 132.880694 \r\nL 282.308345 102.166645 \r\nL 282.420532 167.361723 \r\nL 282.532719 140.913431 \r\nL 282.644906 156.943941 \r\nL 282.757093 143.303802 \r\nL 282.86928 182.496568 \r\nL 282.981467 96.889213 \r\nL 283.205842 185.560077 \r\nL 283.430216 117.200994 \r\nL 283.766777 170.34905 \r\nL 283.878964 115.537483 \r\nL 283.991152 177.574345 \r\nL 284.103339 151.028799 \r\nL 284.215526 180.62836 \r\nL 284.327713 96.616206 \r\nL 284.4399 147.21759 \r\nL 284.664274 137.895539 \r\nL 284.888648 164.980384 \r\nL 285.000836 160.680125 \r\nL 285.22521 112.922965 \r\nL 285.337397 152.625621 \r\nL 285.449584 110.736365 \r\nL 285.561771 158.970303 \r\nL 285.786145 146.475679 \r\nL 286.01052 99.815871 \r\nL 286.234894 137.441455 \r\nL 286.347081 148.759996 \r\nL 286.459268 148.867671 \r\nL 286.571455 136.442515 \r\nL 286.795829 105.135678 \r\nL 287.132391 144.170985 \r\nL 287.244578 111.307155 \r\nL 287.356765 131.588602 \r\nL 287.468952 121.135854 \r\nL 287.581139 125.875146 \r\nL 287.693326 123.229368 \r\nL 287.805513 150.378585 \r\nL 287.9177 137.145755 \r\nL 288.142075 150.810672 \r\nL 288.254262 89.35664 \r\nL 288.366449 158.817475 \r\nL 288.590823 104.268726 \r\nL 288.927384 129.952415 \r\nL 289.039572 137.276122 \r\nL 289.151759 98.578195 \r\nL 289.263946 162.535597 \r\nL 289.376133 153.790588 \r\nL 289.48832 103.183878 \r\nL 289.824881 171.175479 \r\nL 290.049256 131.753934 \r\nL 290.161443 146.418716 \r\nL 290.27363 113.590546 \r\nL 290.385817 168.220339 \r\nL 290.610191 90.751775 \r\nL 290.722378 157.908842 \r\nL 290.834565 136.391803 \r\nL 290.946752 155.653933 \r\nL 291.05894 144.770025 \r\nL 291.171127 151.019768 \r\nL 291.283314 126.901642 \r\nL 291.395501 160.482143 \r\nL 291.507688 104.741104 \r\nL 291.619875 170.015838 \r\nL 291.732062 153.203821 \r\nL 291.844249 182.710064 \r\nL 292.068624 131.853504 \r\nL 292.180811 145.559405 \r\nL 292.292998 123.749909 \r\nL 292.405185 139.472911 \r\nL 292.517372 94.946675 \r\nL 292.629559 118.450479 \r\nL 292.741746 116.813366 \r\nL 292.853933 124.926223 \r\nL 292.966121 168.853881 \r\nL 293.078308 112.329251 \r\nL 293.190495 140.344957 \r\nL 293.302682 93.234306 \r\nL 293.527056 146.905914 \r\nL 293.639243 112.176191 \r\nL 293.75143 164.520278 \r\nL 293.863617 138.318364 \r\nL 293.975805 147.765224 \r\nL 294.087992 139.277244 \r\nL 294.200179 110.465674 \r\nL 294.312366 153.986254 \r\nL 294.424553 121.682099 \r\nL 294.53674 154.246525 \r\nL 294.873301 131.449898 \r\nL 294.985489 89.098222 \r\nL 295.097676 132.886714 \r\nL 295.209863 128.439648 \r\nL 295.32205 139.956635 \r\nL 295.434237 115.474499 \r\nL 295.546424 155.8452 \r\nL 295.770798 130.108485 \r\nL 295.882985 130.866141 \r\nL 296.10736 171.835882 \r\nL 296.219547 95.568176 \r\nL 296.331734 153.254995 \r\nL 296.556108 142.354878 \r\nL 296.668295 162.549259 \r\nL 296.892669 140.564474 \r\nL 297.004857 148.897079 \r\nL 297.117044 117.020147 \r\nL 297.229231 155.626378 \r\nL 297.453605 134.419395 \r\nL 297.565792 155.649533 \r\nL 297.677979 147.174289 \r\nL 297.790166 129.005807 \r\nL 297.902353 136.623824 \r\nL 298.014541 130.692705 \r\nL 298.126728 172.588213 \r\nL 298.351102 87.501863 \r\nL 298.463289 150.984108 \r\nL 298.575476 123.476671 \r\nL 298.79985 175.231676 \r\nL 298.912037 110.363094 \r\nL 299.136412 167.186666 \r\nL 299.248599 84.785922 \r\nL 299.360786 140.418592 \r\nL 299.472973 122.341112 \r\nL 299.58516 126.487848 \r\nL 299.809534 157.098622 \r\nL 299.921721 86.94543 \r\nL 300.146096 129.123901 \r\nL 300.258283 120.803106 \r\nL 300.37047 133.01245 \r\nL 300.482657 122.560166 \r\nL 300.707031 151.981427 \r\nL 300.819218 130.292805 \r\nL 300.931406 143.402677 \r\nL 301.043593 94.607212 \r\nL 301.15578 157.60828 \r\nL 301.267967 146.303864 \r\nL 301.380154 120.112832 \r\nL 301.492341 172.937402 \r\nL 301.604528 140.213895 \r\nL 301.716715 146.222355 \r\nL 301.94109 126.856488 \r\nL 302.053277 150.488112 \r\nL 302.277651 111.45651 \r\nL 302.389838 135.955317 \r\nL 302.502025 131.918571 \r\nL 302.614212 90.743671 \r\nL 302.726399 165.106583 \r\nL 303.062961 127.961481 \r\nL 303.175148 147.303961 \r\nL 303.287335 118.812867 \r\nL 303.399522 156.071432 \r\nL 303.511709 88.764315 \r\nL 303.736083 153.426579 \r\nL 303.84827 149.717488 \r\nL 303.960458 125.34951 \r\nL 304.072645 144.618818 \r\nL 304.184832 125.353678 \r\nL 304.297019 157.341294 \r\nL 304.409206 146.519444 \r\nL 304.521393 181.753268 \r\nL 304.63358 135.998387 \r\nL 304.745767 166.614487 \r\nL 304.970142 139.972844 \r\nL 305.082329 169.5078 \r\nL 305.194516 131.710632 \r\nL 305.306703 139.746843 \r\nL 305.41889 175.279377 \r\nL 305.643264 157.281552 \r\nL 305.755451 173.754106 \r\nL 305.979826 98.505949 \r\nL 306.092013 105.995452 \r\nL 306.2042 126.359333 \r\nL 306.316387 122.377698 \r\nL 306.428574 134.000738 \r\nL 306.540761 158.753102 \r\nL 306.652948 144.062385 \r\nL 306.765135 186.510853 \r\nL 306.98951 107.30028 \r\nL 307.101697 120.399501 \r\nL 307.213884 148.505514 \r\nL 307.326071 141.297354 \r\nL 307.438258 109.848573 \r\nL 307.550445 151.98027 \r\nL 307.662632 149.458374 \r\nL 307.774819 122.69609 \r\nL 307.999194 152.149538 \r\nL 308.111381 112.330408 \r\nL 308.335755 202.334813 \r\nL 308.560129 112.464017 \r\nL 308.784503 128.780501 \r\nL 309.121065 103.904486 \r\nL 309.233252 184.147111 \r\nL 309.345439 160.211452 \r\nL 309.457626 106.614174 \r\nL 309.569813 161.546383 \r\nL 309.682 126.995422 \r\nL 309.794187 174.166279 \r\nL 310.018562 130.453737 \r\nL 310.130749 161.608903 \r\nL 310.242936 131.285261 \r\nL 310.46731 142.306019 \r\nL 310.579497 140.438506 \r\nL 310.691684 176.257708 \r\nL 310.803871 169.542302 \r\nL 310.916059 141.258221 \r\nL 311.140433 196.035517 \r\nL 311.25262 115.0093 \r\nL 311.364807 149.573459 \r\nL 311.476994 148.357317 \r\nL 311.589181 154.739975 \r\nL 311.701368 105.456386 \r\nL 311.813555 105.074547 \r\nL 311.925743 154.967133 \r\nL 312.03793 114.677478 \r\nL 312.150117 119.516571 \r\nL 312.262304 115.670629 \r\nL 312.486678 147.49106 \r\nL 312.711052 112.151646 \r\nL 312.935427 169.31005 \r\nL 313.159801 118.327985 \r\nL 313.271988 144.970786 \r\nL 313.384175 138.794446 \r\nL 313.496362 167.341809 \r\nL 313.608549 125.881398 \r\nL 313.720736 140.507047 \r\nL 313.945111 186.894312 \r\nL 314.169485 108.515263 \r\nL 314.393859 145.821992 \r\nL 314.506046 138.205595 \r\nL 314.618233 169.397579 \r\nL 314.73042 158.607683 \r\nL 314.842607 131.679372 \r\nL 314.954795 132.408547 \r\nL 315.066982 139.028088 \r\nL 315.179169 115.51618 \r\nL 315.403543 164.642772 \r\nL 315.51573 113.614628 \r\nL 315.740104 132.002858 \r\nL 315.852291 130.579241 \r\nL 315.964479 96.455274 \r\nL 316.076666 163.182801 \r\nL 316.188853 163.602615 \r\nL 316.413227 113.865868 \r\nL 316.525414 163.404402 \r\nL 316.749788 142.140919 \r\nL 316.974163 166.077504 \r\nL 317.198537 133.460514 \r\nL 317.310724 135.899049 \r\nL 317.422911 81.534157 \r\nL 317.535098 150.21279 \r\nL 317.647285 116.504237 \r\nL 317.759472 164.709693 \r\nL 317.871659 153.111429 \r\nL 317.983847 122.559934 \r\nL 318.096034 173.838161 \r\nL 318.320408 102.92407 \r\nL 318.432595 161.129347 \r\nL 318.544782 143.280183 \r\nL 318.769156 163.909198 \r\nL 318.881344 193.624769 \r\nL 319.105718 130.923336 \r\nL 319.330092 126.069886 \r\nL 319.442279 156.316883 \r\nL 319.554466 144.017926 \r\nL 319.666653 102.633466 \r\nL 319.891028 169.388085 \r\nL 320.003215 133.200938 \r\nL 320.115402 177.825354 \r\nL 320.227589 97.351634 \r\nL 320.451963 161.663551 \r\nL 320.56415 154.453769 \r\nL 320.676337 190.049518 \r\nL 320.788524 158.983965 \r\nL 320.900712 89.255449 \r\nL 321.012899 145.970189 \r\nL 321.125086 102.935648 \r\nL 321.237273 157.755319 \r\nL 321.34946 155.7322 \r\nL 321.573834 111.87123 \r\nL 321.798208 130.155259 \r\nL 321.910396 180.410233 \r\nL 322.022583 128.138391 \r\nL 322.246957 167.986234 \r\nL 322.359144 102.046004 \r\nL 322.471331 129.695617 \r\nL 322.583518 120.454843 \r\nL 322.695705 150.749772 \r\nL 322.92008 130.334948 \r\nL 323.032267 154.507954 \r\nL 323.144454 126.113651 \r\nL 323.368828 174.661812 \r\nL 323.481015 126.560789 \r\nL 323.593202 146.73595 \r\nL 323.705389 112.552241 \r\nL 323.929764 147.247924 \r\nL 324.041951 134.422868 \r\nL 324.266325 164.143071 \r\nL 324.378512 170.696155 \r\nL 324.602886 137.967785 \r\nL 324.82726 165.522923 \r\nL 325.163822 96.360104 \r\nL 325.276009 179.966568 \r\nL 325.500383 131.666637 \r\nL 325.61257 130.137429 \r\nL 325.724757 133.812482 \r\nL 325.836944 164.505459 \r\nL 325.949132 122.360331 \r\nL 326.061319 127.958934 \r\nL 326.285693 153.085263 \r\nL 326.39788 138.117835 \r\nL 326.510067 139.164013 \r\nL 326.622254 159.938446 \r\nL 326.734441 127.885994 \r\nL 326.846629 149.946961 \r\nL 326.958816 96.846838 \r\nL 327.18319 147.12983 \r\nL 327.295377 106.423139 \r\nL 327.407564 202.580496 \r\nL 327.631938 144.972407 \r\nL 327.856313 141.291565 \r\nL 327.9685 97.412302 \r\nL 328.080687 158.321941 \r\nL 328.192874 127.134126 \r\nL 328.417248 137.397459 \r\nL 328.529435 85.304611 \r\nL 328.641622 127.309183 \r\nL 328.753809 120.227453 \r\nL 328.865997 125.460195 \r\nL 329.090371 181.556675 \r\nL 329.314745 97.012402 \r\nL 329.539119 166.881241 \r\nL 329.651306 142.717961 \r\nL 329.763493 147.80019 \r\nL 329.875681 145.471877 \r\nL 330.100055 124.34015 \r\nL 330.212242 99.982361 \r\nL 330.324429 112.326704 \r\nL 330.436616 163.356932 \r\nL 330.66099 129.51315 \r\nL 330.773177 130.773287 \r\nL 330.997552 146.904756 \r\nL 331.109739 134.740102 \r\nL 331.221926 200.371667 \r\nL 331.4463 131.201205 \r\nL 331.558487 132.603982 \r\nL 331.670674 150.564294 \r\nL 331.782861 143.784515 \r\nL 331.895049 151.282355 \r\nL 332.007236 122.447166 \r\nL 332.119423 126.778684 \r\nL 332.23161 166.396591 \r\nL 332.343797 157.982246 \r\nL 332.455984 160.809797 \r\nL 332.568171 148.994564 \r\nL 332.680358 107.113876 \r\nL 332.904733 164.681674 \r\nL 333.129107 102.014975 \r\nL 333.241294 183.704141 \r\nL 333.353481 112.058097 \r\nL 333.577855 154.663098 \r\nL 333.690042 106.205475 \r\nL 333.802229 127.545141 \r\nL 333.914417 124.570782 \r\nL 334.026604 151.431246 \r\nL 334.250978 119.105093 \r\nL 334.587539 151.938589 \r\nL 334.699726 128.025623 \r\nL 334.924101 161.936557 \r\nL 335.036288 104.842063 \r\nL 335.260662 159.286611 \r\nL 335.372849 115.178569 \r\nL 335.485036 138.031927 \r\nL 335.597223 215.90919 \r\nL 335.70941 119.335493 \r\nL 335.821598 195.385303 \r\nL 335.933785 142.146245 \r\nL 336.045972 151.964755 \r\nL 336.158159 111.538018 \r\nL 336.270346 140.361629 \r\nL 336.382533 114.608937 \r\nL 336.606907 169.125962 \r\nL 336.719094 129.056981 \r\nL 336.943469 166.988452 \r\nL 337.055656 164.218559 \r\nL 337.167843 121.136086 \r\nL 337.28003 124.532806 \r\nL 337.392217 150.147027 \r\nL 337.616591 119.619614 \r\nL 337.728778 160.944101 \r\nL 337.840966 148.016696 \r\nL 338.06534 161.512575 \r\nL 338.177527 145.566815 \r\nL 338.289714 177.567167 \r\nL 338.626275 93.804169 \r\nL 338.738462 154.815463 \r\nL 338.85065 132.836003 \r\nL 338.962837 140.039301 \r\nL 339.075024 182.31549 \r\nL 339.299398 100.200489 \r\nL 339.411585 134.712084 \r\nL 339.523772 117.812538 \r\nL 339.635959 161.312046 \r\nL 339.860334 120.811442 \r\nL 339.972521 175.348149 \r\nL 340.196895 117.975323 \r\nL 340.421269 133.029585 \r\nL 340.533456 174.656486 \r\nL 340.645643 129.228102 \r\nL 340.870018 151.893667 \r\nL 340.982205 141.822758 \r\nL 341.094392 120.37866 \r\nL 341.206579 161.683928 \r\nL 341.318766 113.135303 \r\nL 341.430953 140.757361 \r\nL 341.54314 140.673306 \r\nL 341.655327 140.222926 \r\nL 341.879702 174.834091 \r\nL 341.991889 143.010418 \r\nL 342.104076 166.578827 \r\nL 342.216263 129.876695 \r\nL 342.32845 175.801771 \r\nL 342.440637 135.755483 \r\nL 342.552824 170.304822 \r\nL 342.665011 116.936555 \r\nL 342.777198 158.351349 \r\nL 342.889386 117.621039 \r\nL 343.11376 122.875084 \r\nL 343.225947 183.715256 \r\nL 343.450321 138.073607 \r\nL 343.786882 118.204796 \r\nL 343.89907 151.741997 \r\nL 344.011257 145.886597 \r\nL 344.123444 124.63145 \r\nL 344.460005 157.804873 \r\nL 344.684379 142.07423 \r\nL 344.908754 162.174136 \r\nL 345.133128 153.101472 \r\nL 345.245315 159.83054 \r\nL 345.357502 135.519757 \r\nL 345.469689 144.333307 \r\nL 345.581876 128.89929 \r\nL 345.806251 145.92272 \r\nL 345.918438 123.472735 \r\nL 346.030625 137.917537 \r\nL 346.142812 136.788693 \r\nL 346.254999 150.846332 \r\nL 346.367186 148.20009 \r\nL 346.479373 125.962675 \r\nL 346.59156 150.813682 \r\nL 346.703747 142.96619 \r\nL 346.815935 174.392974 \r\nL 346.928122 125.624138 \r\nL 347.152496 175.777457 \r\nL 347.264683 119.928975 \r\nL 347.37687 161.450286 \r\nL 347.601244 158.671362 \r\nL 347.713431 103.617586 \r\nL 347.825619 155.792173 \r\nL 347.937806 118.795963 \r\nL 348.16218 160.680357 \r\nL 348.274367 139.36732 \r\nL 348.386554 150.280173 \r\nL 348.498741 120.832977 \r\nL 348.835303 165.251075 \r\nL 348.94749 105.5849 \r\nL 349.171864 151.733429 \r\nL 349.284051 146.170949 \r\nL 349.396238 115.305694 \r\nL 349.508425 184.539139 \r\nL 349.620612 172.949674 \r\nL 349.732799 130.539182 \r\nL 349.957174 175.075606 \r\nL 350.069361 131.335509 \r\nL 350.181548 144.659572 \r\nL 350.405922 127.3548 \r\nL 350.518109 130.222643 \r\nL 350.742483 159.928952 \r\nL 350.966858 127.617618 \r\nL 351.079045 126.81666 \r\nL 351.191232 139.230238 \r\nL 351.303419 136.439968 \r\nL 351.415606 153.715795 \r\nL 351.527793 136.102819 \r\nL 351.752167 196.09549 \r\nL 351.976542 86.694421 \r\nL 352.088729 152.291715 \r\nL 352.200916 129.026878 \r\nL 352.42529 152.70134 \r\nL 352.649664 114.017538 \r\nL 352.874039 149.477131 \r\nL 352.986226 142.199503 \r\nL 353.098413 115.3483 \r\nL 353.2106 170.685271 \r\nL 353.322787 128.201838 \r\nL 353.434974 165.255474 \r\nL 353.547161 108.638452 \r\nL 353.771536 190.686996 \r\nL 353.883723 125.66165 \r\nL 354.220284 154.193035 \r\nL 354.332471 150.288277 \r\nL 354.444658 141.973039 \r\nL 354.556845 159.591341 \r\nL 354.669032 143.766686 \r\nL 354.78122 194.392383 \r\nL 354.893407 115.366825 \r\nL 355.005594 169.951696 \r\nL 355.117781 157.516815 \r\nL 355.229968 192.949084 \r\nL 355.342155 135.532493 \r\nL 355.566529 146.148257 \r\nL 355.790904 118.57251 \r\nL 356.015278 187.758254 \r\nL 356.127465 123.13466 \r\nL 356.239652 162.456868 \r\nL 356.464026 136.934806 \r\nL 356.576213 133.840269 \r\nL 356.6884 168.966418 \r\nL 356.800588 165.033179 \r\nL 356.912775 134.778772 \r\nL 357.137149 178.975038 \r\nL 357.249336 128.75364 \r\nL 357.361523 163.927028 \r\nL 357.585897 142.371087 \r\nL 357.698084 143.74353 \r\nL 357.810272 155.585392 \r\nL 357.922459 98.832677 \r\nL 358.034646 154.067994 \r\nL 358.146833 111.594286 \r\nL 358.25902 173.276171 \r\nL 358.371207 141.935527 \r\nL 358.707768 159.885651 \r\nL 358.819956 149.019804 \r\nL 358.932143 120.974458 \r\nL 359.04433 137.273344 \r\nL 359.156517 128.079576 \r\nL 359.268704 135.706624 \r\nL 359.380891 187.627656 \r\nL 359.493078 169.902838 \r\nL 359.605265 106.556748 \r\nL 359.717452 175.886521 \r\nL 359.82964 153.033626 \r\nL 359.941827 152.953275 \r\nL 360.054014 153.70028 \r\nL 360.278388 145.699729 \r\nL 360.390575 161.746448 \r\nL 360.502762 117.485347 \r\nL 360.614949 177.748477 \r\nL 360.727136 127.214245 \r\nL 360.839324 150.109283 \r\nL 360.951511 118.339563 \r\nL 361.063698 178.806696 \r\nL 361.175885 167.076907 \r\nL 361.288072 142.680911 \r\nL 361.400259 158.97285 \r\nL 361.512446 98.539293 \r\nL 361.624633 111.833717 \r\nL 361.849008 165.325636 \r\nL 361.961195 181.293857 \r\nL 362.185569 133.094885 \r\nL 362.297756 160.401561 \r\nL 362.409943 110.898456 \r\nL 362.409943 110.898456 \r\n\" style=\"fill:none;stroke:#1f77b4;stroke-linecap:square;stroke-width:1.5;\"/>\r\n   </g>\r\n   <g id=\"patch_3\">\r\n    <path d=\"M 42.828125 225.792827 \r\nL 42.828125 8.352827 \r\n\" style=\"fill:none;stroke:#000000;stroke-linecap:square;stroke-linejoin:miter;stroke-width:0.8;\"/>\r\n   </g>\r\n   <g id=\"patch_4\">\r\n    <path d=\"M 377.628125 225.792827 \r\nL 377.628125 8.352827 \r\n\" style=\"fill:none;stroke:#000000;stroke-linecap:square;stroke-linejoin:miter;stroke-width:0.8;\"/>\r\n   </g>\r\n   <g id=\"patch_5\">\r\n    <path d=\"M 42.828125 225.792827 \r\nL 377.628125 225.792827 \r\n\" style=\"fill:none;stroke:#000000;stroke-linecap:square;stroke-linejoin:miter;stroke-width:0.8;\"/>\r\n   </g>\r\n   <g id=\"patch_6\">\r\n    <path d=\"M 42.828125 8.352827 \r\nL 377.628125 8.352827 \r\n\" style=\"fill:none;stroke:#000000;stroke-linecap:square;stroke-linejoin:miter;stroke-width:0.8;\"/>\r\n   </g>\r\n  </g>\r\n </g>\r\n <defs>\r\n  <clipPath id=\"p297429aa2e\">\r\n   <rect height=\"217.44\" width=\"334.8\" x=\"42.828125\" y=\"8.352827\"/>\r\n  </clipPath>\r\n </defs>\r\n</svg>\r\n",
      "text/plain": "<Figure size 432x288 with 1 Axes>"
     },
     "metadata": {
      "needs_background": "light",
      "transient": {}
     },
     "output_type": "display_data"
    }
   ],
   "source": [
    "import numpy as np\r\n",
    "\r\n",
    "import matplotlib.pyplot as plt\r\n",
    "\r\n",
    "plt.plot(trains_loss[0], trains_loss[1])"
   ]
  },
  {
   "cell_type": "code",
   "execution_count": null,
   "metadata": {},
   "outputs": [],
   "source": []
  }
 ],
 "metadata": {
  "kernelspec": {
   "display_name": "Python 3.8.5 64-bit ('tig': conda)",
   "metadata": {
    "interpreter": {
     "hash": "e40159a12ac9a9ece4e67df73bdf345461e79f1702abc56474bd8ff4d26a4103"
    }
   },
   "name": "python3"
  },
  "language_info": {
   "codemirror_mode": {
    "name": "ipython",
    "version": 3
   },
   "file_extension": ".py",
   "mimetype": "text/x-python",
   "name": "python",
   "nbconvert_exporter": "python",
   "pygments_lexer": "ipython3",
   "version": "3.8.5"
  },
  "orig_nbformat": 2
 },
 "nbformat": 4,
 "nbformat_minor": 2
}