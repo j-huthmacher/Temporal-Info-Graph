{
  "nbformat": 4,
  "nbformat_minor": 0,
  "metadata": {
    "kernelspec": {
      "display_name": "Python 3.8.5 64-bit ('tig': conda)",
      "metadata": {
        "interpreter": {
          "hash": "e40159a12ac9a9ece4e67df73bdf345461e79f1702abc56474bd8ff4d26a4103"
        }
      },
      "name": "python3"
    },
    "language_info": {
      "codemirror_mode": {
        "name": "ipython",
        "version": 3
      },
      "file_extension": ".py",
      "mimetype": "text/x-python",
      "name": "python",
      "nbconvert_exporter": "python",
      "pygments_lexer": "ipython3",
      "version": "3.8.5"
    },
    "orig_nbformat": 2,
    "colab": {
      "name": "tig-colab-exec.ipynb",
      "provenance": []
    }
  },
  "cells": [
    {
      "cell_type": "code",
      "metadata": {
        "id": "2VtdPxb4D9wG"
      },
      "source": [
        ""
      ],
      "execution_count": null,
      "outputs": []
    },
    {
      "cell_type": "code",
      "metadata": {
        "id": "abtKeOsyD8u9"
      },
      "source": [
        "# from google.colab import drive\n",
        "# drive.mount('/content/drive')\n",
        "\n",
        "%cd /content/drive/MyDrive/CoLab/"
      ],
      "execution_count": null,
      "outputs": []
    },
    {
      "cell_type": "code",
      "metadata": {
        "id": "mRwiKW5jDC2U"
      },
      "source": [
        "get_ipython().run_line_magic('load_ext', 'autoreload')\r\n",
        "get_ipython().run_line_magic('autoreload', '2')\r\n",
        "\r\n",
        "import sys\r\n",
        "sys.path.insert(0, \"../\")\r\n",
        "\r\n",
        "import pandas as pd \r\n",
        "import numpy as np\r\n",
        "import torch\r\n",
        "from torchsummary import summary\r\n",
        "\r\n",
        "torch.cuda.is_available()"
      ],
      "execution_count": null,
      "outputs": []
    },
    {
      "cell_type": "code",
      "metadata": {
        "id": "hPXLzD1JDgCk",
        "outputId": "6a22a2ee-2d7b-44b3-95a6-944964d40544",
        "colab": {
          "base_uri": "https://localhost:8080/"
        }
      },
      "source": [
        ""
      ],
      "execution_count": 1,
      "outputs": [
        {
          "output_type": "stream",
          "text": [
            "Mounted at /content/drive\n"
          ],
          "name": "stdout"
        }
      ]
    },
    {
      "cell_type": "code",
      "metadata": {
        "id": "FaFyFn4fDiAM",
        "outputId": "77e9d4ce-19dc-44f2-ac6d-e0ab5248090d",
        "colab": {
          "base_uri": "https://localhost:8080/"
        }
      },
      "source": [
        ""
      ],
      "execution_count": 2,
      "outputs": [
        {
          "output_type": "stream",
          "text": [
            "/content/drive/MyDrive/CoLab\n"
          ],
          "name": "stdout"
        }
      ]
    },
    {
      "cell_type": "code",
      "metadata": {
        "id": "83PR7lcmD7sy"
      },
      "source": [
        ""
      ],
      "execution_count": null,
      "outputs": []
    }
  ]
}