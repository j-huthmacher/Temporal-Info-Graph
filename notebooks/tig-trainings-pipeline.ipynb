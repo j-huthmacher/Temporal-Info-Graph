{
 "cells": [
  {
   "cell_type": "markdown",
   "metadata": {},
   "source": [
    "# Notebook to test and familiarize with the TIG framework\r\n",
    "\r\n",
    "The TIG framework consists of sever componentents that are used to to train and evaluate the model. In the following a brief overview of the components that are used and what their purposes are.\r\n",
    "\r\n",
    "**TIG Model** `model.temporal_info_graph.py`\r\n",
    "* The model itself that will be trained\r\n",
    "\r\n",
    "**Solver** `model.solver.py`\r\n",
    "* Class that implements the trainings, validation, testing and trackings procedure\r\n",
    "* As mentioned, the solver trains the model\r\n",
    "* It will also take care of local (and remote) tracking of metrics\r\n",
    "\r\n",
    "**Loss** `model.loss.py`\r\n",
    "* At the moment only the *Jensen-Shannon MI estimate* is implemented as objective\r\n",
    "\r\n",
    "**DataSet (PyTorch Geometric)** `data.tig_data_set.py`\r\n",
    "* PyTorch geometric data set that takes care of the initial data loading and few preprocessing steps\r\n",
    "* In combination with the **PyTorch Dataloader** the data set will be effeciently divided in batch for training\r\n",
    "* The dynamic graph set upt required to implement a new *Data Class* to handle the sequences of graphs. \r\n"
   ]
  },
  {
   "cell_type": "code",
   "execution_count": null,
   "metadata": {},
   "outputs": [],
   "source": [
    "get_ipython().run_line_magic('load_ext', 'autoreload')\r\n",
    "get_ipython().run_line_magic('autoreload', '2')\r\n",
    "\r\n",
    "import sys\r\n",
    "sys.path.insert(0, \"../\")\r\n",
    "\r\n",
    "from torch_geometric.data import DataLoader\r\n",
    "\r\n",
    "from data import KINECT_ADJACENCY\r\n",
    "from data.tig_data_set import TIGDataset\r\n",
    "from model.temporal_info_graph import TemporalInfoGraph\r\n",
    "from model.solver import Solver\r\n",
    "\r\n",
    "#################\r\n",
    "# Load Data Set #\r\n",
    "#################\r\n",
    "# At the moment we only load few examples from the actual data!\r\n",
    "dataset = TIGDataset()\r\n",
    "train_loader = DataLoader(dataset, batch_size=3)\r\n",
    "\r\n",
    "\r\n",
    "################\r\n",
    "# Create Model #\r\n",
    "################\r\n",
    "tig = TemporalInfoGraph(c_in=2, c_out=6, spec_out=7, out=8, dim_in=(18, 201), tempKernel=3)\r\n",
    "\r\n",
    "###############\r\n",
    "# Init Solver #\r\n",
    "###############\r\n",
    "solver = Solver(tig, [train_loader, train_loader])\r\n",
    "print(solver)"
   ]
  },
  {
   "cell_type": "code",
   "execution_count": null,
   "metadata": {},
   "outputs": [],
   "source": [
    "solver.train({\"verbose\": True })\r\n",
    "print(solver)"
   ]
  }
 ],
 "metadata": {
  "kernelspec": {
   "display_name": "Python 3.8.5 64-bit ('tig': conda)",
   "metadata": {
    "interpreter": {
     "hash": "e40159a12ac9a9ece4e67df73bdf345461e79f1702abc56474bd8ff4d26a4103"
    }
   },
   "name": "python3"
  },
  "language_info": {
   "codemirror_mode": {
    "name": "ipython",
    "version": 3
   },
   "file_extension": ".py",
   "mimetype": "text/x-python",
   "name": "python",
   "nbconvert_exporter": "python",
   "pygments_lexer": "ipython3",
   "version": "3.8.5"
  },
  "orig_nbformat": 2
 },
 "nbformat": 4,
 "nbformat_minor": 2
}
